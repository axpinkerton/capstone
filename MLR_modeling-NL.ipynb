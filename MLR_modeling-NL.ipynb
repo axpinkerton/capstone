{
 "cells": [
  {
   "cell_type": "code",
   "execution_count": 1,
   "metadata": {},
   "outputs": [],
   "source": [
    "import numpy as np\n",
    "import pandas as pd\n",
    "import matplotlib\n",
    "from matplotlib import pyplot as plt\n",
    "\n",
    "from sklearn.preprocessing import StandardScaler\n",
    "from sklearn.decomposition import PCA\n",
    "from sklearn.linear_model import LinearRegression\n",
    "from sklearn.pipeline import Pipeline\n",
    "from sklearn.model_selection import GridSearchCV\n",
    "\n",
    "%matplotlib inline"
   ]
  },
  {
   "cell_type": "code",
   "execution_count": 2,
   "metadata": {
    "scrolled": true
   },
   "outputs": [
    {
     "data": {
      "text/html": [
       "<div>\n",
       "<style scoped>\n",
       "    .dataframe tbody tr th:only-of-type {\n",
       "        vertical-align: middle;\n",
       "    }\n",
       "\n",
       "    .dataframe tbody tr th {\n",
       "        vertical-align: top;\n",
       "    }\n",
       "\n",
       "    .dataframe thead th {\n",
       "        text-align: right;\n",
       "    }\n",
       "</style>\n",
       "<table border=\"1\" class=\"dataframe\">\n",
       "  <thead>\n",
       "    <tr style=\"text-align: right;\">\n",
       "      <th></th>\n",
       "      <th>RegionName</th>\n",
       "      <th>year</th>\n",
       "      <th>rent_price</th>\n",
       "      <th>rent_next_biann</th>\n",
       "      <th>housing_units</th>\n",
       "      <th>occupied_housing_units</th>\n",
       "      <th>vacant_housing_units</th>\n",
       "      <th>dwellings_1_units_detached</th>\n",
       "      <th>dwellings_1_units_attached</th>\n",
       "      <th>dwellings_2_units</th>\n",
       "      <th>...</th>\n",
       "      <th>amerindian_pop</th>\n",
       "      <th>other_race_pop</th>\n",
       "      <th>two_or_more_races_pop</th>\n",
       "      <th>hispanic_any_race</th>\n",
       "      <th>not_hispanic_pop</th>\n",
       "      <th>income_per_capita</th>\n",
       "      <th>zip_cases_to_ttl</th>\n",
       "      <th>zip_new_cases_to_ttl</th>\n",
       "      <th>zip_deaths_to_ttl</th>\n",
       "      <th>zip_new_deaths_to_ttl</th>\n",
       "    </tr>\n",
       "  </thead>\n",
       "  <tbody>\n",
       "    <tr>\n",
       "      <th>0</th>\n",
       "      <td>1604</td>\n",
       "      <td>2014.0</td>\n",
       "      <td>1054.833333</td>\n",
       "      <td>1087.125000</td>\n",
       "      <td>15417.0</td>\n",
       "      <td>14057.0</td>\n",
       "      <td>1360.0</td>\n",
       "      <td>4737.0</td>\n",
       "      <td>1269.0</td>\n",
       "      <td>1780.0</td>\n",
       "      <td>...</td>\n",
       "      <td>102.0</td>\n",
       "      <td>46.0</td>\n",
       "      <td>611.0</td>\n",
       "      <td>5206.0</td>\n",
       "      <td>29422.0</td>\n",
       "      <td>25798.00</td>\n",
       "      <td>0.000000</td>\n",
       "      <td>0.000000</td>\n",
       "      <td>0.000000</td>\n",
       "      <td>0.000000</td>\n",
       "    </tr>\n",
       "    <tr>\n",
       "      <th>1</th>\n",
       "      <td>1604</td>\n",
       "      <td>2014.5</td>\n",
       "      <td>1087.125000</td>\n",
       "      <td>1119.416667</td>\n",
       "      <td>15427.5</td>\n",
       "      <td>14093.5</td>\n",
       "      <td>1334.0</td>\n",
       "      <td>4721.5</td>\n",
       "      <td>1288.0</td>\n",
       "      <td>1834.0</td>\n",
       "      <td>...</td>\n",
       "      <td>107.5</td>\n",
       "      <td>28.0</td>\n",
       "      <td>614.5</td>\n",
       "      <td>5742.5</td>\n",
       "      <td>29292.0</td>\n",
       "      <td>25623.00</td>\n",
       "      <td>0.000000</td>\n",
       "      <td>0.000000</td>\n",
       "      <td>0.000000</td>\n",
       "      <td>0.000000</td>\n",
       "    </tr>\n",
       "    <tr>\n",
       "      <th>2</th>\n",
       "      <td>1604</td>\n",
       "      <td>2015.0</td>\n",
       "      <td>1119.416667</td>\n",
       "      <td>1152.208333</td>\n",
       "      <td>15438.0</td>\n",
       "      <td>14130.0</td>\n",
       "      <td>1308.0</td>\n",
       "      <td>4706.0</td>\n",
       "      <td>1307.0</td>\n",
       "      <td>1888.0</td>\n",
       "      <td>...</td>\n",
       "      <td>113.0</td>\n",
       "      <td>10.0</td>\n",
       "      <td>618.0</td>\n",
       "      <td>6279.0</td>\n",
       "      <td>29162.0</td>\n",
       "      <td>25448.00</td>\n",
       "      <td>0.000000</td>\n",
       "      <td>0.000000</td>\n",
       "      <td>0.000000</td>\n",
       "      <td>0.000000</td>\n",
       "    </tr>\n",
       "    <tr>\n",
       "      <th>3</th>\n",
       "      <td>1604</td>\n",
       "      <td>2015.5</td>\n",
       "      <td>1152.208333</td>\n",
       "      <td>1185.000000</td>\n",
       "      <td>15547.5</td>\n",
       "      <td>14159.5</td>\n",
       "      <td>1388.0</td>\n",
       "      <td>4700.5</td>\n",
       "      <td>1267.5</td>\n",
       "      <td>1853.0</td>\n",
       "      <td>...</td>\n",
       "      <td>132.5</td>\n",
       "      <td>10.0</td>\n",
       "      <td>635.0</td>\n",
       "      <td>6379.0</td>\n",
       "      <td>29274.5</td>\n",
       "      <td>25855.50</td>\n",
       "      <td>0.000000</td>\n",
       "      <td>0.000000</td>\n",
       "      <td>0.000000</td>\n",
       "      <td>0.000000</td>\n",
       "    </tr>\n",
       "    <tr>\n",
       "      <th>4</th>\n",
       "      <td>1604</td>\n",
       "      <td>2016.0</td>\n",
       "      <td>1185.000000</td>\n",
       "      <td>1216.250000</td>\n",
       "      <td>15657.0</td>\n",
       "      <td>14189.0</td>\n",
       "      <td>1468.0</td>\n",
       "      <td>4695.0</td>\n",
       "      <td>1228.0</td>\n",
       "      <td>1818.0</td>\n",
       "      <td>...</td>\n",
       "      <td>152.0</td>\n",
       "      <td>10.0</td>\n",
       "      <td>652.0</td>\n",
       "      <td>6479.0</td>\n",
       "      <td>29387.0</td>\n",
       "      <td>26263.00</td>\n",
       "      <td>0.000000</td>\n",
       "      <td>0.000000</td>\n",
       "      <td>0.000000</td>\n",
       "      <td>0.000000</td>\n",
       "    </tr>\n",
       "    <tr>\n",
       "      <th>...</th>\n",
       "      <td>...</td>\n",
       "      <td>...</td>\n",
       "      <td>...</td>\n",
       "      <td>...</td>\n",
       "      <td>...</td>\n",
       "      <td>...</td>\n",
       "      <td>...</td>\n",
       "      <td>...</td>\n",
       "      <td>...</td>\n",
       "      <td>...</td>\n",
       "      <td>...</td>\n",
       "      <td>...</td>\n",
       "      <td>...</td>\n",
       "      <td>...</td>\n",
       "      <td>...</td>\n",
       "      <td>...</td>\n",
       "      <td>...</td>\n",
       "      <td>...</td>\n",
       "      <td>...</td>\n",
       "      <td>...</td>\n",
       "      <td>...</td>\n",
       "    </tr>\n",
       "    <tr>\n",
       "      <th>24355</th>\n",
       "      <td>99207</td>\n",
       "      <td>2018.5</td>\n",
       "      <td>1221.416667</td>\n",
       "      <td>1268.333333</td>\n",
       "      <td>13454.5</td>\n",
       "      <td>12117.0</td>\n",
       "      <td>1337.5</td>\n",
       "      <td>9804.0</td>\n",
       "      <td>292.5</td>\n",
       "      <td>1074.0</td>\n",
       "      <td>...</td>\n",
       "      <td>756.5</td>\n",
       "      <td>392.5</td>\n",
       "      <td>2163.5</td>\n",
       "      <td>2259.5</td>\n",
       "      <td>27800.0</td>\n",
       "      <td>19749.47</td>\n",
       "      <td>0.000000</td>\n",
       "      <td>0.000000</td>\n",
       "      <td>0.000000</td>\n",
       "      <td>0.000000</td>\n",
       "    </tr>\n",
       "    <tr>\n",
       "      <th>24356</th>\n",
       "      <td>99207</td>\n",
       "      <td>2019.0</td>\n",
       "      <td>1268.333333</td>\n",
       "      <td>1301.895833</td>\n",
       "      <td>13434.0</td>\n",
       "      <td>12204.0</td>\n",
       "      <td>1230.0</td>\n",
       "      <td>9786.0</td>\n",
       "      <td>326.0</td>\n",
       "      <td>964.0</td>\n",
       "      <td>...</td>\n",
       "      <td>763.0</td>\n",
       "      <td>767.0</td>\n",
       "      <td>2470.0</td>\n",
       "      <td>2297.0</td>\n",
       "      <td>28114.0</td>\n",
       "      <td>20136.94</td>\n",
       "      <td>0.000000</td>\n",
       "      <td>0.000000</td>\n",
       "      <td>0.000000</td>\n",
       "      <td>0.000000</td>\n",
       "    </tr>\n",
       "    <tr>\n",
       "      <th>24357</th>\n",
       "      <td>99207</td>\n",
       "      <td>2019.5</td>\n",
       "      <td>1301.895833</td>\n",
       "      <td>1335.458333</td>\n",
       "      <td>13434.0</td>\n",
       "      <td>12204.0</td>\n",
       "      <td>1230.0</td>\n",
       "      <td>9786.0</td>\n",
       "      <td>326.0</td>\n",
       "      <td>964.0</td>\n",
       "      <td>...</td>\n",
       "      <td>763.0</td>\n",
       "      <td>767.0</td>\n",
       "      <td>2470.0</td>\n",
       "      <td>2297.0</td>\n",
       "      <td>28114.0</td>\n",
       "      <td>20136.94</td>\n",
       "      <td>0.000000</td>\n",
       "      <td>0.000000</td>\n",
       "      <td>0.000000</td>\n",
       "      <td>0.000000</td>\n",
       "    </tr>\n",
       "    <tr>\n",
       "      <th>24358</th>\n",
       "      <td>99207</td>\n",
       "      <td>2020.0</td>\n",
       "      <td>1335.458333</td>\n",
       "      <td>1370.395833</td>\n",
       "      <td>13434.0</td>\n",
       "      <td>12204.0</td>\n",
       "      <td>1230.0</td>\n",
       "      <td>9786.0</td>\n",
       "      <td>326.0</td>\n",
       "      <td>964.0</td>\n",
       "      <td>...</td>\n",
       "      <td>763.0</td>\n",
       "      <td>767.0</td>\n",
       "      <td>2470.0</td>\n",
       "      <td>2297.0</td>\n",
       "      <td>28114.0</td>\n",
       "      <td>20136.94</td>\n",
       "      <td>0.000817</td>\n",
       "      <td>0.000455</td>\n",
       "      <td>0.000027</td>\n",
       "      <td>0.000005</td>\n",
       "    </tr>\n",
       "    <tr>\n",
       "      <th>24359</th>\n",
       "      <td>99207</td>\n",
       "      <td>2020.5</td>\n",
       "      <td>1370.395833</td>\n",
       "      <td>1405.333333</td>\n",
       "      <td>13434.0</td>\n",
       "      <td>12204.0</td>\n",
       "      <td>1230.0</td>\n",
       "      <td>9786.0</td>\n",
       "      <td>326.0</td>\n",
       "      <td>964.0</td>\n",
       "      <td>...</td>\n",
       "      <td>763.0</td>\n",
       "      <td>767.0</td>\n",
       "      <td>2470.0</td>\n",
       "      <td>2297.0</td>\n",
       "      <td>28114.0</td>\n",
       "      <td>20136.94</td>\n",
       "      <td>0.022936</td>\n",
       "      <td>0.008034</td>\n",
       "      <td>0.000367</td>\n",
       "      <td>0.000093</td>\n",
       "    </tr>\n",
       "  </tbody>\n",
       "</table>\n",
       "<p>24360 rows × 54 columns</p>\n",
       "</div>"
      ],
      "text/plain": [
       "       RegionName    year   rent_price  rent_next_biann  housing_units  \\\n",
       "0            1604  2014.0  1054.833333      1087.125000        15417.0   \n",
       "1            1604  2014.5  1087.125000      1119.416667        15427.5   \n",
       "2            1604  2015.0  1119.416667      1152.208333        15438.0   \n",
       "3            1604  2015.5  1152.208333      1185.000000        15547.5   \n",
       "4            1604  2016.0  1185.000000      1216.250000        15657.0   \n",
       "...           ...     ...          ...              ...            ...   \n",
       "24355       99207  2018.5  1221.416667      1268.333333        13454.5   \n",
       "24356       99207  2019.0  1268.333333      1301.895833        13434.0   \n",
       "24357       99207  2019.5  1301.895833      1335.458333        13434.0   \n",
       "24358       99207  2020.0  1335.458333      1370.395833        13434.0   \n",
       "24359       99207  2020.5  1370.395833      1405.333333        13434.0   \n",
       "\n",
       "       occupied_housing_units  vacant_housing_units  \\\n",
       "0                     14057.0                1360.0   \n",
       "1                     14093.5                1334.0   \n",
       "2                     14130.0                1308.0   \n",
       "3                     14159.5                1388.0   \n",
       "4                     14189.0                1468.0   \n",
       "...                       ...                   ...   \n",
       "24355                 12117.0                1337.5   \n",
       "24356                 12204.0                1230.0   \n",
       "24357                 12204.0                1230.0   \n",
       "24358                 12204.0                1230.0   \n",
       "24359                 12204.0                1230.0   \n",
       "\n",
       "       dwellings_1_units_detached  dwellings_1_units_attached  \\\n",
       "0                          4737.0                      1269.0   \n",
       "1                          4721.5                      1288.0   \n",
       "2                          4706.0                      1307.0   \n",
       "3                          4700.5                      1267.5   \n",
       "4                          4695.0                      1228.0   \n",
       "...                           ...                         ...   \n",
       "24355                      9804.0                       292.5   \n",
       "24356                      9786.0                       326.0   \n",
       "24357                      9786.0                       326.0   \n",
       "24358                      9786.0                       326.0   \n",
       "24359                      9786.0                       326.0   \n",
       "\n",
       "       dwellings_2_units  ...  amerindian_pop  other_race_pop  \\\n",
       "0                 1780.0  ...           102.0            46.0   \n",
       "1                 1834.0  ...           107.5            28.0   \n",
       "2                 1888.0  ...           113.0            10.0   \n",
       "3                 1853.0  ...           132.5            10.0   \n",
       "4                 1818.0  ...           152.0            10.0   \n",
       "...                  ...  ...             ...             ...   \n",
       "24355             1074.0  ...           756.5           392.5   \n",
       "24356              964.0  ...           763.0           767.0   \n",
       "24357              964.0  ...           763.0           767.0   \n",
       "24358              964.0  ...           763.0           767.0   \n",
       "24359              964.0  ...           763.0           767.0   \n",
       "\n",
       "       two_or_more_races_pop  hispanic_any_race  not_hispanic_pop  \\\n",
       "0                      611.0             5206.0           29422.0   \n",
       "1                      614.5             5742.5           29292.0   \n",
       "2                      618.0             6279.0           29162.0   \n",
       "3                      635.0             6379.0           29274.5   \n",
       "4                      652.0             6479.0           29387.0   \n",
       "...                      ...                ...               ...   \n",
       "24355                 2163.5             2259.5           27800.0   \n",
       "24356                 2470.0             2297.0           28114.0   \n",
       "24357                 2470.0             2297.0           28114.0   \n",
       "24358                 2470.0             2297.0           28114.0   \n",
       "24359                 2470.0             2297.0           28114.0   \n",
       "\n",
       "       income_per_capita  zip_cases_to_ttl  zip_new_cases_to_ttl  \\\n",
       "0               25798.00          0.000000              0.000000   \n",
       "1               25623.00          0.000000              0.000000   \n",
       "2               25448.00          0.000000              0.000000   \n",
       "3               25855.50          0.000000              0.000000   \n",
       "4               26263.00          0.000000              0.000000   \n",
       "...                  ...               ...                   ...   \n",
       "24355           19749.47          0.000000              0.000000   \n",
       "24356           20136.94          0.000000              0.000000   \n",
       "24357           20136.94          0.000000              0.000000   \n",
       "24358           20136.94          0.000817              0.000455   \n",
       "24359           20136.94          0.022936              0.008034   \n",
       "\n",
       "       zip_deaths_to_ttl  zip_new_deaths_to_ttl  \n",
       "0               0.000000               0.000000  \n",
       "1               0.000000               0.000000  \n",
       "2               0.000000               0.000000  \n",
       "3               0.000000               0.000000  \n",
       "4               0.000000               0.000000  \n",
       "...                  ...                    ...  \n",
       "24355           0.000000               0.000000  \n",
       "24356           0.000000               0.000000  \n",
       "24357           0.000000               0.000000  \n",
       "24358           0.000027               0.000005  \n",
       "24359           0.000367               0.000093  \n",
       "\n",
       "[24360 rows x 54 columns]"
      ]
     },
     "execution_count": 2,
     "metadata": {},
     "output_type": "execute_result"
    }
   ],
   "source": [
    "zori_census_covid_biann = pd.read_csv('./zori_census_covid_biann')\n",
    "zori_census_covid_biann = zori_census_covid_biann.iloc[:,1:]\n",
    "zori_census_covid_biann_14_20 = zori_census_covid_biann[zori_census_covid_biann['year']<2021].reset_index(drop=True)\n",
    "zori_census_covid_biann_14_20"
   ]
  },
  {
   "cell_type": "markdown",
   "metadata": {},
   "source": [
    "### Base Model"
   ]
  },
  {
   "cell_type": "code",
   "execution_count": 3,
   "metadata": {},
   "outputs": [],
   "source": [
    "x_train = zori_census_covid_biann_14_20[zori_census_covid_biann_14_20['year']<2020.5].drop(\n",
    "    'rent_next_biann',axis=1).iloc[:,2:]\n",
    "y_train = zori_census_covid_biann_14_20[zori_census_covid_biann_14_20['year']<2020.5]['rent_next_biann']\n",
    "x_test = zori_census_covid_biann_14_20[zori_census_covid_biann_14_20['year']==2020.5].drop(\n",
    "    'rent_next_biann',axis=1).iloc[:,2:]\n",
    "y_test = zori_census_covid_biann_14_20[zori_census_covid_biann_14_20['year']==2020.5]['rent_next_biann']"
   ]
  },
  {
   "cell_type": "code",
   "execution_count": 4,
   "metadata": {},
   "outputs": [
    {
     "data": {
      "text/plain": [
       "LinearRegression()"
      ]
     },
     "execution_count": 4,
     "metadata": {},
     "output_type": "execute_result"
    }
   ],
   "source": [
    "mlmodel = LinearRegression()\n",
    "\n",
    "mlmodel.fit(x_train, y_train)"
   ]
  },
  {
   "cell_type": "code",
   "execution_count": 5,
   "metadata": {},
   "outputs": [
    {
     "name": "stdout",
     "output_type": "stream",
     "text": [
      "0.9986942101497698\n",
      "Train Score (Adj R Sq): 0.9986547579682759\n",
      "0.7436652815349002\n",
      "Test Score (Adj R Sq): 0.7359205714390944\n"
     ]
    }
   ],
   "source": [
    "# Regular Scores\n",
    "print(mlmodel.score(x_train, y_train))\n",
    "print(f'Train Score (Adj R Sq): {1 - (1-mlmodel.score(x_train, y_train))*(len(y_test)-1)/(len(y_test)-x_test.shape[1]-1)}')\n",
    "print(mlmodel.score(x_test, y_test))\n",
    "print(f'Test Score (Adj R Sq): {1 - (1-mlmodel.score(x_test, y_test))*(len(y_test)-1)/(len(y_test)-x_test.shape[1]-1)}')"
   ]
  },
  {
   "cell_type": "code",
   "execution_count": 6,
   "metadata": {},
   "outputs": [
    {
     "data": {
      "text/plain": [
       "<Figure size 1600x2400 with 0 Axes>"
      ]
     },
     "execution_count": 6,
     "metadata": {},
     "output_type": "execute_result"
    },
    {
     "data": {
      "image/png": "[encoded data removed]",
      "text/plain": [
       "<Figure size 432x288 with 1 Axes>"
      ]
     },
     "metadata": {
      "needs_background": "light"
     },
     "output_type": "display_data"
    },
    {
     "data": {
      "text/plain": [
       "<Figure size 1600x2400 with 0 Axes>"
      ]
     },
     "metadata": {},
     "output_type": "display_data"
    }
   ],
   "source": [
    "y_predicted = mlmodel.predict(x_test)\n",
    "y_predicted\n",
    "plt.scatter(y_test, y_predicted)\n",
    "plt.title('Actual vs Predicted Rent Prices Next Year')\n",
    "plt.xlabel('Actual Rent Prices Next Year')\n",
    "plt.ylabel('Predicted Rent Prices Next Year')\n",
    "plt.figure(figsize=(20, 30), dpi=80)"
   ]
  },
  {
   "cell_type": "code",
   "execution_count": 7,
   "metadata": {},
   "outputs": [
    {
     "data": {
      "text/plain": [
       "{'pca__n_components': 46}"
      ]
     },
     "execution_count": 7,
     "metadata": {},
     "output_type": "execute_result"
    }
   ],
   "source": [
    "scaler = StandardScaler()\n",
    "pca = PCA()\n",
    "mlmodel = LinearRegression()\n",
    "\n",
    "pipe = Pipeline(steps=[('scaler', scaler), ('pca', pca), ('mlmodel', mlmodel)])\n",
    "\n",
    "\n",
    "param_grid = {\n",
    "    'pca__n_components': range(1,zori_census_covid_biann_14_20.shape[1]-2,3)\n",
    "}\n",
    "search = GridSearchCV(pipe, param_grid, n_jobs=-1)\n",
    "search.fit(x_train, y_train)\n",
    "search.best_params_"
   ]
  },
  {
   "cell_type": "code",
   "execution_count": 8,
   "metadata": {},
   "outputs": [],
   "source": [
    "pca = PCA(n_components = search.best_params_['pca__n_components'])\n",
    "pca.fit(x_test)\n",
    "\n",
    "x_train = pca.transform(x_train)\n",
    "x_test = pca.transform(x_test)"
   ]
  },
  {
   "cell_type": "code",
   "execution_count": 9,
   "metadata": {},
   "outputs": [
    {
     "data": {
      "text/plain": [
       "LinearRegression()"
      ]
     },
     "execution_count": 9,
     "metadata": {},
     "output_type": "execute_result"
    }
   ],
   "source": [
    "mlmodel = LinearRegression()\n",
    "\n",
    "mlmodel.fit(x_train, y_train)"
   ]
  },
  {
   "cell_type": "code",
   "execution_count": 10,
   "metadata": {},
   "outputs": [
    {
     "name": "stdout",
     "output_type": "stream",
     "text": [
      "0.998655468537869\n",
      "Train Score (Adj R Sq): 0.9986189366729794\n",
      "0.8442335590343589\n",
      "Test Score (Adj R Sq): 0.8400012753459836\n"
     ]
    }
   ],
   "source": [
    "print(mlmodel.score(x_train, y_train))\n",
    "print(f'Train Score (Adj R Sq): {1 - (1-mlmodel.score(x_train, y_train))*(len(y_test)-1)/(len(y_test)-x_test.shape[1]-1)}')\n",
    "print(mlmodel.score(x_test, y_test))\n",
    "print(f'Test Score (Adj R Sq): {1 - (1-mlmodel.score(x_test, y_test))*(len(y_test)-1)/(len(y_test)-x_test.shape[1]-1)}')"
   ]
  },
  {
   "cell_type": "code",
   "execution_count": 11,
   "metadata": {
    "scrolled": true
   },
   "outputs": [
    {
     "data": {
      "text/plain": [
       "<Figure size 1600x2400 with 0 Axes>"
      ]
     },
     "execution_count": 11,
     "metadata": {},
     "output_type": "execute_result"
    },
    {
     "data": {
      "image/png": "[encoded data removed]",
      "text/plain": [
       "<Figure size 432x288 with 1 Axes>"
      ]
     },
     "metadata": {
      "needs_background": "light"
     },
     "output_type": "display_data"
    },
    {
     "data": {
      "text/plain": [
       "<Figure size 1600x2400 with 0 Axes>"
      ]
     },
     "metadata": {},
     "output_type": "display_data"
    }
   ],
   "source": [
    "y_predicted = mlmodel.predict(x_test)\n",
    "y_predicted\n",
    "plt.scatter(y_test, y_predicted)\n",
    "plt.title('Actual vs Predicted Rent Prices Next Year (PCA)')\n",
    "plt.xlabel('Actual Rent Prices Next Year')\n",
    "plt.ylabel('Predicted Rent Prices Next Year')\n",
    "plt.figure(figsize=(20, 30), dpi=80)"
   ]
  },
  {
   "cell_type": "markdown",
   "metadata": {},
   "source": [
    "### Model Using Only 2019 - 2020"
   ]
  },
  {
   "cell_type": "code",
   "execution_count": 12,
   "metadata": {},
   "outputs": [
    {
     "name": "stderr",
     "output_type": "stream",
     "text": [
      "<ipython-input-12-1b6ef760debb>:1: UserWarning: Boolean Series key will be reindexed to match DataFrame index.\n",
      "  x_train = zori_census_covid_biann_14_20[zori_census_covid_biann_14_20['year']>=2019][\n",
      "<ipython-input-12-1b6ef760debb>:3: UserWarning: Boolean Series key will be reindexed to match DataFrame index.\n",
      "  y_train = zori_census_covid_biann_14_20[zori_census_covid_biann_14_20['year']>=2019][\n",
      "<ipython-input-12-1b6ef760debb>:5: UserWarning: Boolean Series key will be reindexed to match DataFrame index.\n",
      "  x_test = zori_census_covid_biann_14_20[zori_census_covid_biann_14_20['year']>=2019][\n",
      "<ipython-input-12-1b6ef760debb>:7: UserWarning: Boolean Series key will be reindexed to match DataFrame index.\n",
      "  y_test = zori_census_covid_biann_14_20[zori_census_covid_biann_14_20['year']>=2019][\n"
     ]
    }
   ],
   "source": [
    "x_train = zori_census_covid_biann_14_20[zori_census_covid_biann_14_20['year']>=2019][\n",
    "    zori_census_covid_biann_14_20['year']<2020.5].drop('rent_next_biann',axis=1).iloc[:,2:]\n",
    "y_train = zori_census_covid_biann_14_20[zori_census_covid_biann_14_20['year']>=2019][\n",
    "    zori_census_covid_biann_14_20['year']<2020.5]['rent_next_biann']\n",
    "x_test = zori_census_covid_biann_14_20[zori_census_covid_biann_14_20['year']>=2019][\n",
    "    zori_census_covid_biann_14_20['year']==2020.5].drop('rent_next_biann',axis=1).iloc[:,2:]\n",
    "y_test = zori_census_covid_biann_14_20[zori_census_covid_biann_14_20['year']>=2019][\n",
    "    zori_census_covid_biann_14_20['year']==2020.5]['rent_next_biann']"
   ]
  },
  {
   "cell_type": "code",
   "execution_count": 13,
   "metadata": {},
   "outputs": [
    {
     "data": {
      "text/plain": [
       "LinearRegression()"
      ]
     },
     "execution_count": 13,
     "metadata": {},
     "output_type": "execute_result"
    }
   ],
   "source": [
    "mlmodel = LinearRegression()\n",
    "\n",
    "mlmodel.fit(x_train, y_train)"
   ]
  },
  {
   "cell_type": "code",
   "execution_count": 14,
   "metadata": {},
   "outputs": [
    {
     "name": "stdout",
     "output_type": "stream",
     "text": [
      "0.9984769548285174\n",
      "Train Score (Adj R Sq): 0.9984309386533127\n",
      "0.9048817790991619\n",
      "Test Score (Adj R Sq): 0.9020079465956413\n"
     ]
    }
   ],
   "source": [
    "# Regular Scores\n",
    "print(mlmodel.score(x_train, y_train))\n",
    "print(f'Train Score (Adj R Sq): {1 - (1-mlmodel.score(x_train, y_train))*(len(y_test)-1)/(len(y_test)-x_test.shape[1]-1)}')\n",
    "print(mlmodel.score(x_test, y_test))\n",
    "print(f'Test Score (Adj R Sq): {1 - (1-mlmodel.score(x_test, y_test))*(len(y_test)-1)/(len(y_test)-x_test.shape[1]-1)}')"
   ]
  },
  {
   "cell_type": "code",
   "execution_count": 15,
   "metadata": {},
   "outputs": [
    {
     "data": {
      "text/plain": [
       "<Figure size 1600x2400 with 0 Axes>"
      ]
     },
     "execution_count": 15,
     "metadata": {},
     "output_type": "execute_result"
    },
    {
     "data": {
      "image/png": "[encoded data removed]",
      "text/plain": [
       "<Figure size 432x288 with 1 Axes>"
      ]
     },
     "metadata": {
      "needs_background": "light"
     },
     "output_type": "display_data"
    },
    {
     "data": {
      "text/plain": [
       "<Figure size 1600x2400 with 0 Axes>"
      ]
     },
     "metadata": {},
     "output_type": "display_data"
    }
   ],
   "source": [
    "y_predicted = mlmodel.predict(x_test)\n",
    "y_predicted\n",
    "plt.scatter(y_test, y_predicted)\n",
    "plt.title('Actual vs Predicted Rent Prices Next Year')\n",
    "plt.xlabel('Actual Rent Prices Next Year')\n",
    "plt.ylabel('Predicted Rent Prices Next Year')\n",
    "plt.figure(figsize=(20, 30), dpi=80)"
   ]
  },
  {
   "cell_type": "code",
   "execution_count": 16,
   "metadata": {},
   "outputs": [
    {
     "data": {
      "text/plain": [
       "{'pca__n_components': 43}"
      ]
     },
     "execution_count": 16,
     "metadata": {},
     "output_type": "execute_result"
    }
   ],
   "source": [
    "scaler = StandardScaler()\n",
    "pca = PCA()\n",
    "mlmodel = LinearRegression()\n",
    "\n",
    "pipe = Pipeline(steps=[('scaler', scaler), ('pca', pca), ('mlmodel', mlmodel)])\n",
    "\n",
    "\n",
    "param_grid = {\n",
    "    'pca__n_components': range(1,zori_census_covid_biann_14_20.shape[1]-2,3)\n",
    "}\n",
    "search = GridSearchCV(pipe, param_grid, n_jobs=-1)\n",
    "search.fit(x_train, y_train)\n",
    "search.best_params_"
   ]
  },
  {
   "cell_type": "code",
   "execution_count": 17,
   "metadata": {},
   "outputs": [],
   "source": [
    "pca = PCA(n_components = search.best_params_['pca__n_components'])\n",
    "pca.fit(x_test)\n",
    "\n",
    "x_train = pca.transform(x_train)\n",
    "x_test = pca.transform(x_test)"
   ]
  },
  {
   "cell_type": "code",
   "execution_count": 18,
   "metadata": {},
   "outputs": [
    {
     "data": {
      "text/plain": [
       "LinearRegression()"
      ]
     },
     "execution_count": 18,
     "metadata": {},
     "output_type": "execute_result"
    }
   ],
   "source": [
    "mlmodel = LinearRegression()\n",
    "\n",
    "mlmodel.fit(x_train, y_train)"
   ]
  },
  {
   "cell_type": "code",
   "execution_count": 19,
   "metadata": {},
   "outputs": [
    {
     "name": "stdout",
     "output_type": "stream",
     "text": [
      "0.9983539807448508\n",
      "Train Score (Adj R Sq): 0.9983122479453393\n",
      "0.9975690593430632\n",
      "Test Score (Adj R Sq): 0.9975074258240488\n"
     ]
    }
   ],
   "source": [
    "print(mlmodel.score(x_train, y_train))\n",
    "print(f'Train Score (Adj R Sq): {1 - (1-mlmodel.score(x_train, y_train))*(len(y_test)-1)/(len(y_test)-x_test.shape[1]-1)}')\n",
    "print(mlmodel.score(x_test, y_test))\n",
    "print(f'Test Score (Adj R Sq): {1 - (1-mlmodel.score(x_test, y_test))*(len(y_test)-1)/(len(y_test)-x_test.shape[1]-1)}')"
   ]
  },
  {
   "cell_type": "code",
   "execution_count": 20,
   "metadata": {
    "scrolled": true
   },
   "outputs": [
    {
     "data": {
      "text/plain": [
       "<Figure size 1600x2400 with 0 Axes>"
      ]
     },
     "execution_count": 20,
     "metadata": {},
     "output_type": "execute_result"
    },
    {
     "data": {
      "image/png": "[encoded data removed]",
      "text/plain": [
       "<Figure size 432x288 with 1 Axes>"
      ]
     },
     "metadata": {
      "needs_background": "light"
     },
     "output_type": "display_data"
    },
    {
     "data": {
      "text/plain": [
       "<Figure size 1600x2400 with 0 Axes>"
      ]
     },
     "metadata": {},
     "output_type": "display_data"
    }
   ],
   "source": [
    "y_predicted = mlmodel.predict(x_test)\n",
    "y_predicted\n",
    "plt.scatter(y_test, y_predicted)\n",
    "plt.title('Actual vs Predicted Rent Prices Next Year')\n",
    "plt.xlabel('Actual Rent Prices Next Year')\n",
    "plt.ylabel('Predicted Rent Prices Next Year')\n",
    "plt.figure(figsize=(20, 30), dpi=80)"
   ]
  }
 ],
 "metadata": {
  "kernelspec": {
   "display_name": "Python 3",
   "language": "python",
   "name": "python3"
  },
  "language_info": {
   "codemirror_mode": {
    "name": "ipython",
    "version": 3
   },
   "file_extension": ".py",
   "mimetype": "text/x-python",
   "name": "python",
   "nbconvert_exporter": "python",
   "pygments_lexer": "ipython3",
   "version": "3.8.5"
  }
 },
 "nbformat": 4,
 "nbformat_minor": 4
}
