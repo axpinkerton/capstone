{
 "cells": [
  {
   "cell_type": "code",
   "execution_count": 1,
   "metadata": {},
   "outputs": [],
   "source": [
    "import numpy as np\n",
    "import pandas as pd\n",
    "import matplotlib\n",
    "from matplotlib import pyplot as plt\n",
    "\n",
    "from sklearn.preprocessing import StandardScaler\n",
    "from sklearn.decomposition import PCA\n",
    "from sklearn.linear_model import LinearRegression\n",
    "from sklearn.pipeline import Pipeline\n",
    "from sklearn.model_selection import GridSearchCV\n",
    "from sklearn.metrics import mean_squared_error\n",
    "\n",
    "%matplotlib inline"
   ]
  },
  {
   "cell_type": "code",
   "execution_count": 2,
   "metadata": {
    "scrolled": true
   },
   "outputs": [
    {
     "data": {
      "text/html": [
       "<div>\n",
       "<style scoped>\n",
       "    .dataframe tbody tr th:only-of-type {\n",
       "        vertical-align: middle;\n",
       "    }\n",
       "\n",
       "    .dataframe tbody tr th {\n",
       "        vertical-align: top;\n",
       "    }\n",
       "\n",
       "    .dataframe thead th {\n",
       "        text-align: right;\n",
       "    }\n",
       "</style>\n",
       "<table border=\"1\" class=\"dataframe\">\n",
       "  <thead>\n",
       "    <tr style=\"text-align: right;\">\n",
       "      <th></th>\n",
       "      <th>RegionName</th>\n",
       "      <th>year</th>\n",
       "      <th>rent_price</th>\n",
       "      <th>rent_next_biann</th>\n",
       "      <th>housing_units</th>\n",
       "      <th>occupied_housing_units</th>\n",
       "      <th>vacant_housing_units</th>\n",
       "      <th>dwellings_1_units_detached</th>\n",
       "      <th>dwellings_1_units_attached</th>\n",
       "      <th>dwellings_2_units</th>\n",
       "      <th>...</th>\n",
       "      <th>amerindian_pop</th>\n",
       "      <th>other_race_pop</th>\n",
       "      <th>two_or_more_races_pop</th>\n",
       "      <th>hispanic_any_race</th>\n",
       "      <th>not_hispanic_pop</th>\n",
       "      <th>income_per_capita</th>\n",
       "      <th>zip_cases_to_ttl</th>\n",
       "      <th>zip_new_cases_to_ttl</th>\n",
       "      <th>zip_deaths_to_ttl</th>\n",
       "      <th>zip_new_deaths_to_ttl</th>\n",
       "    </tr>\n",
       "  </thead>\n",
       "  <tbody>\n",
       "    <tr>\n",
       "      <th>0</th>\n",
       "      <td>1604</td>\n",
       "      <td>2014.0</td>\n",
       "      <td>1054.833333</td>\n",
       "      <td>1087.125000</td>\n",
       "      <td>15417.0</td>\n",
       "      <td>14057.0</td>\n",
       "      <td>1360.0</td>\n",
       "      <td>4737.0</td>\n",
       "      <td>1269.0</td>\n",
       "      <td>1780.0</td>\n",
       "      <td>...</td>\n",
       "      <td>102.0</td>\n",
       "      <td>46.0</td>\n",
       "      <td>611.0</td>\n",
       "      <td>5206.0</td>\n",
       "      <td>29422.0</td>\n",
       "      <td>25798.00</td>\n",
       "      <td>0.000000</td>\n",
       "      <td>0.000000</td>\n",
       "      <td>0.000000</td>\n",
       "      <td>0.000000</td>\n",
       "    </tr>\n",
       "    <tr>\n",
       "      <th>1</th>\n",
       "      <td>1604</td>\n",
       "      <td>2014.5</td>\n",
       "      <td>1087.125000</td>\n",
       "      <td>1119.416667</td>\n",
       "      <td>15427.5</td>\n",
       "      <td>14093.5</td>\n",
       "      <td>1334.0</td>\n",
       "      <td>4721.5</td>\n",
       "      <td>1288.0</td>\n",
       "      <td>1834.0</td>\n",
       "      <td>...</td>\n",
       "      <td>107.5</td>\n",
       "      <td>28.0</td>\n",
       "      <td>614.5</td>\n",
       "      <td>5742.5</td>\n",
       "      <td>29292.0</td>\n",
       "      <td>25623.00</td>\n",
       "      <td>0.000000</td>\n",
       "      <td>0.000000</td>\n",
       "      <td>0.000000</td>\n",
       "      <td>0.000000</td>\n",
       "    </tr>\n",
       "    <tr>\n",
       "      <th>2</th>\n",
       "      <td>1604</td>\n",
       "      <td>2015.0</td>\n",
       "      <td>1119.416667</td>\n",
       "      <td>1152.208333</td>\n",
       "      <td>15438.0</td>\n",
       "      <td>14130.0</td>\n",
       "      <td>1308.0</td>\n",
       "      <td>4706.0</td>\n",
       "      <td>1307.0</td>\n",
       "      <td>1888.0</td>\n",
       "      <td>...</td>\n",
       "      <td>113.0</td>\n",
       "      <td>10.0</td>\n",
       "      <td>618.0</td>\n",
       "      <td>6279.0</td>\n",
       "      <td>29162.0</td>\n",
       "      <td>25448.00</td>\n",
       "      <td>0.000000</td>\n",
       "      <td>0.000000</td>\n",
       "      <td>0.000000</td>\n",
       "      <td>0.000000</td>\n",
       "    </tr>\n",
       "    <tr>\n",
       "      <th>3</th>\n",
       "      <td>1604</td>\n",
       "      <td>2015.5</td>\n",
       "      <td>1152.208333</td>\n",
       "      <td>1185.000000</td>\n",
       "      <td>15547.5</td>\n",
       "      <td>14159.5</td>\n",
       "      <td>1388.0</td>\n",
       "      <td>4700.5</td>\n",
       "      <td>1267.5</td>\n",
       "      <td>1853.0</td>\n",
       "      <td>...</td>\n",
       "      <td>132.5</td>\n",
       "      <td>10.0</td>\n",
       "      <td>635.0</td>\n",
       "      <td>6379.0</td>\n",
       "      <td>29274.5</td>\n",
       "      <td>25855.50</td>\n",
       "      <td>0.000000</td>\n",
       "      <td>0.000000</td>\n",
       "      <td>0.000000</td>\n",
       "      <td>0.000000</td>\n",
       "    </tr>\n",
       "    <tr>\n",
       "      <th>4</th>\n",
       "      <td>1604</td>\n",
       "      <td>2016.0</td>\n",
       "      <td>1185.000000</td>\n",
       "      <td>1216.250000</td>\n",
       "      <td>15657.0</td>\n",
       "      <td>14189.0</td>\n",
       "      <td>1468.0</td>\n",
       "      <td>4695.0</td>\n",
       "      <td>1228.0</td>\n",
       "      <td>1818.0</td>\n",
       "      <td>...</td>\n",
       "      <td>152.0</td>\n",
       "      <td>10.0</td>\n",
       "      <td>652.0</td>\n",
       "      <td>6479.0</td>\n",
       "      <td>29387.0</td>\n",
       "      <td>26263.00</td>\n",
       "      <td>0.000000</td>\n",
       "      <td>0.000000</td>\n",
       "      <td>0.000000</td>\n",
       "      <td>0.000000</td>\n",
       "    </tr>\n",
       "    <tr>\n",
       "      <th>...</th>\n",
       "      <td>...</td>\n",
       "      <td>...</td>\n",
       "      <td>...</td>\n",
       "      <td>...</td>\n",
       "      <td>...</td>\n",
       "      <td>...</td>\n",
       "      <td>...</td>\n",
       "      <td>...</td>\n",
       "      <td>...</td>\n",
       "      <td>...</td>\n",
       "      <td>...</td>\n",
       "      <td>...</td>\n",
       "      <td>...</td>\n",
       "      <td>...</td>\n",
       "      <td>...</td>\n",
       "      <td>...</td>\n",
       "      <td>...</td>\n",
       "      <td>...</td>\n",
       "      <td>...</td>\n",
       "      <td>...</td>\n",
       "      <td>...</td>\n",
       "    </tr>\n",
       "    <tr>\n",
       "      <th>24355</th>\n",
       "      <td>99207</td>\n",
       "      <td>2018.5</td>\n",
       "      <td>1221.416667</td>\n",
       "      <td>1268.333333</td>\n",
       "      <td>13454.5</td>\n",
       "      <td>12117.0</td>\n",
       "      <td>1337.5</td>\n",
       "      <td>9804.0</td>\n",
       "      <td>292.5</td>\n",
       "      <td>1074.0</td>\n",
       "      <td>...</td>\n",
       "      <td>756.5</td>\n",
       "      <td>392.5</td>\n",
       "      <td>2163.5</td>\n",
       "      <td>2259.5</td>\n",
       "      <td>27800.0</td>\n",
       "      <td>19749.47</td>\n",
       "      <td>0.000000</td>\n",
       "      <td>0.000000</td>\n",
       "      <td>0.000000</td>\n",
       "      <td>0.000000</td>\n",
       "    </tr>\n",
       "    <tr>\n",
       "      <th>24356</th>\n",
       "      <td>99207</td>\n",
       "      <td>2019.0</td>\n",
       "      <td>1268.333333</td>\n",
       "      <td>1301.895833</td>\n",
       "      <td>13434.0</td>\n",
       "      <td>12204.0</td>\n",
       "      <td>1230.0</td>\n",
       "      <td>9786.0</td>\n",
       "      <td>326.0</td>\n",
       "      <td>964.0</td>\n",
       "      <td>...</td>\n",
       "      <td>763.0</td>\n",
       "      <td>767.0</td>\n",
       "      <td>2470.0</td>\n",
       "      <td>2297.0</td>\n",
       "      <td>28114.0</td>\n",
       "      <td>20136.94</td>\n",
       "      <td>0.000000</td>\n",
       "      <td>0.000000</td>\n",
       "      <td>0.000000</td>\n",
       "      <td>0.000000</td>\n",
       "    </tr>\n",
       "    <tr>\n",
       "      <th>24357</th>\n",
       "      <td>99207</td>\n",
       "      <td>2019.5</td>\n",
       "      <td>1301.895833</td>\n",
       "      <td>1335.458333</td>\n",
       "      <td>13434.0</td>\n",
       "      <td>12204.0</td>\n",
       "      <td>1230.0</td>\n",
       "      <td>9786.0</td>\n",
       "      <td>326.0</td>\n",
       "      <td>964.0</td>\n",
       "      <td>...</td>\n",
       "      <td>763.0</td>\n",
       "      <td>767.0</td>\n",
       "      <td>2470.0</td>\n",
       "      <td>2297.0</td>\n",
       "      <td>28114.0</td>\n",
       "      <td>20136.94</td>\n",
       "      <td>0.000000</td>\n",
       "      <td>0.000000</td>\n",
       "      <td>0.000000</td>\n",
       "      <td>0.000000</td>\n",
       "    </tr>\n",
       "    <tr>\n",
       "      <th>24358</th>\n",
       "      <td>99207</td>\n",
       "      <td>2020.0</td>\n",
       "      <td>1335.458333</td>\n",
       "      <td>1370.395833</td>\n",
       "      <td>13434.0</td>\n",
       "      <td>12204.0</td>\n",
       "      <td>1230.0</td>\n",
       "      <td>9786.0</td>\n",
       "      <td>326.0</td>\n",
       "      <td>964.0</td>\n",
       "      <td>...</td>\n",
       "      <td>763.0</td>\n",
       "      <td>767.0</td>\n",
       "      <td>2470.0</td>\n",
       "      <td>2297.0</td>\n",
       "      <td>28114.0</td>\n",
       "      <td>20136.94</td>\n",
       "      <td>0.000934</td>\n",
       "      <td>0.000651</td>\n",
       "      <td>0.000026</td>\n",
       "      <td>0.000013</td>\n",
       "    </tr>\n",
       "    <tr>\n",
       "      <th>24359</th>\n",
       "      <td>99207</td>\n",
       "      <td>2020.5</td>\n",
       "      <td>1370.395833</td>\n",
       "      <td>1405.333333</td>\n",
       "      <td>13434.0</td>\n",
       "      <td>12204.0</td>\n",
       "      <td>1230.0</td>\n",
       "      <td>9786.0</td>\n",
       "      <td>326.0</td>\n",
       "      <td>964.0</td>\n",
       "      <td>...</td>\n",
       "      <td>763.0</td>\n",
       "      <td>767.0</td>\n",
       "      <td>2470.0</td>\n",
       "      <td>2297.0</td>\n",
       "      <td>28114.0</td>\n",
       "      <td>20136.94</td>\n",
       "      <td>0.021829</td>\n",
       "      <td>0.013027</td>\n",
       "      <td>0.000362</td>\n",
       "      <td>0.000197</td>\n",
       "    </tr>\n",
       "  </tbody>\n",
       "</table>\n",
       "<p>24360 rows × 54 columns</p>\n",
       "</div>"
      ],
      "text/plain": [
       "       RegionName    year   rent_price  rent_next_biann  housing_units  \\\n",
       "0            1604  2014.0  1054.833333      1087.125000        15417.0   \n",
       "1            1604  2014.5  1087.125000      1119.416667        15427.5   \n",
       "2            1604  2015.0  1119.416667      1152.208333        15438.0   \n",
       "3            1604  2015.5  1152.208333      1185.000000        15547.5   \n",
       "4            1604  2016.0  1185.000000      1216.250000        15657.0   \n",
       "...           ...     ...          ...              ...            ...   \n",
       "24355       99207  2018.5  1221.416667      1268.333333        13454.5   \n",
       "24356       99207  2019.0  1268.333333      1301.895833        13434.0   \n",
       "24357       99207  2019.5  1301.895833      1335.458333        13434.0   \n",
       "24358       99207  2020.0  1335.458333      1370.395833        13434.0   \n",
       "24359       99207  2020.5  1370.395833      1405.333333        13434.0   \n",
       "\n",
       "       occupied_housing_units  vacant_housing_units  \\\n",
       "0                     14057.0                1360.0   \n",
       "1                     14093.5                1334.0   \n",
       "2                     14130.0                1308.0   \n",
       "3                     14159.5                1388.0   \n",
       "4                     14189.0                1468.0   \n",
       "...                       ...                   ...   \n",
       "24355                 12117.0                1337.5   \n",
       "24356                 12204.0                1230.0   \n",
       "24357                 12204.0                1230.0   \n",
       "24358                 12204.0                1230.0   \n",
       "24359                 12204.0                1230.0   \n",
       "\n",
       "       dwellings_1_units_detached  dwellings_1_units_attached  \\\n",
       "0                          4737.0                      1269.0   \n",
       "1                          4721.5                      1288.0   \n",
       "2                          4706.0                      1307.0   \n",
       "3                          4700.5                      1267.5   \n",
       "4                          4695.0                      1228.0   \n",
       "...                           ...                         ...   \n",
       "24355                      9804.0                       292.5   \n",
       "24356                      9786.0                       326.0   \n",
       "24357                      9786.0                       326.0   \n",
       "24358                      9786.0                       326.0   \n",
       "24359                      9786.0                       326.0   \n",
       "\n",
       "       dwellings_2_units  ...  amerindian_pop  other_race_pop  \\\n",
       "0                 1780.0  ...           102.0            46.0   \n",
       "1                 1834.0  ...           107.5            28.0   \n",
       "2                 1888.0  ...           113.0            10.0   \n",
       "3                 1853.0  ...           132.5            10.0   \n",
       "4                 1818.0  ...           152.0            10.0   \n",
       "...                  ...  ...             ...             ...   \n",
       "24355             1074.0  ...           756.5           392.5   \n",
       "24356              964.0  ...           763.0           767.0   \n",
       "24357              964.0  ...           763.0           767.0   \n",
       "24358              964.0  ...           763.0           767.0   \n",
       "24359              964.0  ...           763.0           767.0   \n",
       "\n",
       "       two_or_more_races_pop  hispanic_any_race  not_hispanic_pop  \\\n",
       "0                      611.0             5206.0           29422.0   \n",
       "1                      614.5             5742.5           29292.0   \n",
       "2                      618.0             6279.0           29162.0   \n",
       "3                      635.0             6379.0           29274.5   \n",
       "4                      652.0             6479.0           29387.0   \n",
       "...                      ...                ...               ...   \n",
       "24355                 2163.5             2259.5           27800.0   \n",
       "24356                 2470.0             2297.0           28114.0   \n",
       "24357                 2470.0             2297.0           28114.0   \n",
       "24358                 2470.0             2297.0           28114.0   \n",
       "24359                 2470.0             2297.0           28114.0   \n",
       "\n",
       "       income_per_capita  zip_cases_to_ttl  zip_new_cases_to_ttl  \\\n",
       "0               25798.00          0.000000              0.000000   \n",
       "1               25623.00          0.000000              0.000000   \n",
       "2               25448.00          0.000000              0.000000   \n",
       "3               25855.50          0.000000              0.000000   \n",
       "4               26263.00          0.000000              0.000000   \n",
       "...                  ...               ...                   ...   \n",
       "24355           19749.47          0.000000              0.000000   \n",
       "24356           20136.94          0.000000              0.000000   \n",
       "24357           20136.94          0.000000              0.000000   \n",
       "24358           20136.94          0.000934              0.000651   \n",
       "24359           20136.94          0.021829              0.013027   \n",
       "\n",
       "       zip_deaths_to_ttl  zip_new_deaths_to_ttl  \n",
       "0               0.000000               0.000000  \n",
       "1               0.000000               0.000000  \n",
       "2               0.000000               0.000000  \n",
       "3               0.000000               0.000000  \n",
       "4               0.000000               0.000000  \n",
       "...                  ...                    ...  \n",
       "24355           0.000000               0.000000  \n",
       "24356           0.000000               0.000000  \n",
       "24357           0.000000               0.000000  \n",
       "24358           0.000026               0.000013  \n",
       "24359           0.000362               0.000197  \n",
       "\n",
       "[24360 rows x 54 columns]"
      ]
     },
     "execution_count": 2,
     "metadata": {},
     "output_type": "execute_result"
    }
   ],
   "source": [
    "zori_census_covid_biann = pd.read_csv('./zori_census_covid_biann')\n",
    "zori_census_covid_biann = zori_census_covid_biann.iloc[:,1:]\n",
    "zori_census_covid_biann_14_20 = zori_census_covid_biann[zori_census_covid_biann['year']<2021].reset_index(drop=True)\n",
    "zori_census_covid_biann_14_20"
   ]
  },
  {
   "cell_type": "code",
   "execution_count": 3,
   "metadata": {},
   "outputs": [
    {
     "data": {
      "text/html": [
       "<div>\n",
       "<style scoped>\n",
       "    .dataframe tbody tr th:only-of-type {\n",
       "        vertical-align: middle;\n",
       "    }\n",
       "\n",
       "    .dataframe tbody tr th {\n",
       "        vertical-align: top;\n",
       "    }\n",
       "\n",
       "    .dataframe thead th {\n",
       "        text-align: right;\n",
       "    }\n",
       "</style>\n",
       "<table border=\"1\" class=\"dataframe\">\n",
       "  <thead>\n",
       "    <tr style=\"text-align: right;\">\n",
       "      <th></th>\n",
       "      <th>rent_price</th>\n",
       "      <th>housing_units</th>\n",
       "      <th>occupied_housing_units</th>\n",
       "      <th>vacant_housing_units</th>\n",
       "      <th>dwellings_1_units_detached</th>\n",
       "      <th>dwellings_1_units_attached</th>\n",
       "      <th>dwellings_2_units</th>\n",
       "      <th>dwellings_3_to_4_units</th>\n",
       "      <th>dwellings_5_to_9_units</th>\n",
       "      <th>dwellings_10_to_19_units</th>\n",
       "      <th>...</th>\n",
       "      <th>amerindian_pop</th>\n",
       "      <th>other_race_pop</th>\n",
       "      <th>two_or_more_races_pop</th>\n",
       "      <th>hispanic_any_race</th>\n",
       "      <th>not_hispanic_pop</th>\n",
       "      <th>income_per_capita</th>\n",
       "      <th>zip_cases_to_ttl</th>\n",
       "      <th>zip_new_cases_to_ttl</th>\n",
       "      <th>zip_deaths_to_ttl</th>\n",
       "      <th>zip_new_deaths_to_ttl</th>\n",
       "    </tr>\n",
       "  </thead>\n",
       "  <tbody>\n",
       "    <tr>\n",
       "      <th>0</th>\n",
       "      <td>1054.833333</td>\n",
       "      <td>15417.0</td>\n",
       "      <td>14057.0</td>\n",
       "      <td>1360.0</td>\n",
       "      <td>4737.0</td>\n",
       "      <td>1269.0</td>\n",
       "      <td>1780.0</td>\n",
       "      <td>3970.0</td>\n",
       "      <td>1031.0</td>\n",
       "      <td>941.0</td>\n",
       "      <td>...</td>\n",
       "      <td>102.0</td>\n",
       "      <td>46.0</td>\n",
       "      <td>611.0</td>\n",
       "      <td>5206.0</td>\n",
       "      <td>29422.0</td>\n",
       "      <td>25798.00</td>\n",
       "      <td>0.000000</td>\n",
       "      <td>0.000000</td>\n",
       "      <td>0.000000</td>\n",
       "      <td>0.000000</td>\n",
       "    </tr>\n",
       "    <tr>\n",
       "      <th>1</th>\n",
       "      <td>1087.125000</td>\n",
       "      <td>15427.5</td>\n",
       "      <td>14093.5</td>\n",
       "      <td>1334.0</td>\n",
       "      <td>4721.5</td>\n",
       "      <td>1288.0</td>\n",
       "      <td>1834.0</td>\n",
       "      <td>3974.5</td>\n",
       "      <td>1013.5</td>\n",
       "      <td>932.5</td>\n",
       "      <td>...</td>\n",
       "      <td>107.5</td>\n",
       "      <td>28.0</td>\n",
       "      <td>614.5</td>\n",
       "      <td>5742.5</td>\n",
       "      <td>29292.0</td>\n",
       "      <td>25623.00</td>\n",
       "      <td>0.000000</td>\n",
       "      <td>0.000000</td>\n",
       "      <td>0.000000</td>\n",
       "      <td>0.000000</td>\n",
       "    </tr>\n",
       "    <tr>\n",
       "      <th>2</th>\n",
       "      <td>1119.416667</td>\n",
       "      <td>15438.0</td>\n",
       "      <td>14130.0</td>\n",
       "      <td>1308.0</td>\n",
       "      <td>4706.0</td>\n",
       "      <td>1307.0</td>\n",
       "      <td>1888.0</td>\n",
       "      <td>3979.0</td>\n",
       "      <td>996.0</td>\n",
       "      <td>924.0</td>\n",
       "      <td>...</td>\n",
       "      <td>113.0</td>\n",
       "      <td>10.0</td>\n",
       "      <td>618.0</td>\n",
       "      <td>6279.0</td>\n",
       "      <td>29162.0</td>\n",
       "      <td>25448.00</td>\n",
       "      <td>0.000000</td>\n",
       "      <td>0.000000</td>\n",
       "      <td>0.000000</td>\n",
       "      <td>0.000000</td>\n",
       "    </tr>\n",
       "    <tr>\n",
       "      <th>3</th>\n",
       "      <td>1152.208333</td>\n",
       "      <td>15547.5</td>\n",
       "      <td>14159.5</td>\n",
       "      <td>1388.0</td>\n",
       "      <td>4700.5</td>\n",
       "      <td>1267.5</td>\n",
       "      <td>1853.0</td>\n",
       "      <td>4150.5</td>\n",
       "      <td>1026.0</td>\n",
       "      <td>892.0</td>\n",
       "      <td>...</td>\n",
       "      <td>132.5</td>\n",
       "      <td>10.0</td>\n",
       "      <td>635.0</td>\n",
       "      <td>6379.0</td>\n",
       "      <td>29274.5</td>\n",
       "      <td>25855.50</td>\n",
       "      <td>0.000000</td>\n",
       "      <td>0.000000</td>\n",
       "      <td>0.000000</td>\n",
       "      <td>0.000000</td>\n",
       "    </tr>\n",
       "    <tr>\n",
       "      <th>4</th>\n",
       "      <td>1185.000000</td>\n",
       "      <td>15657.0</td>\n",
       "      <td>14189.0</td>\n",
       "      <td>1468.0</td>\n",
       "      <td>4695.0</td>\n",
       "      <td>1228.0</td>\n",
       "      <td>1818.0</td>\n",
       "      <td>4322.0</td>\n",
       "      <td>1056.0</td>\n",
       "      <td>860.0</td>\n",
       "      <td>...</td>\n",
       "      <td>152.0</td>\n",
       "      <td>10.0</td>\n",
       "      <td>652.0</td>\n",
       "      <td>6479.0</td>\n",
       "      <td>29387.0</td>\n",
       "      <td>26263.00</td>\n",
       "      <td>0.000000</td>\n",
       "      <td>0.000000</td>\n",
       "      <td>0.000000</td>\n",
       "      <td>0.000000</td>\n",
       "    </tr>\n",
       "    <tr>\n",
       "      <th>...</th>\n",
       "      <td>...</td>\n",
       "      <td>...</td>\n",
       "      <td>...</td>\n",
       "      <td>...</td>\n",
       "      <td>...</td>\n",
       "      <td>...</td>\n",
       "      <td>...</td>\n",
       "      <td>...</td>\n",
       "      <td>...</td>\n",
       "      <td>...</td>\n",
       "      <td>...</td>\n",
       "      <td>...</td>\n",
       "      <td>...</td>\n",
       "      <td>...</td>\n",
       "      <td>...</td>\n",
       "      <td>...</td>\n",
       "      <td>...</td>\n",
       "      <td>...</td>\n",
       "      <td>...</td>\n",
       "      <td>...</td>\n",
       "      <td>...</td>\n",
       "    </tr>\n",
       "    <tr>\n",
       "      <th>24354</th>\n",
       "      <td>1174.500000</td>\n",
       "      <td>13475.0</td>\n",
       "      <td>12030.0</td>\n",
       "      <td>1445.0</td>\n",
       "      <td>9822.0</td>\n",
       "      <td>259.0</td>\n",
       "      <td>1184.0</td>\n",
       "      <td>641.0</td>\n",
       "      <td>528.0</td>\n",
       "      <td>351.0</td>\n",
       "      <td>...</td>\n",
       "      <td>750.0</td>\n",
       "      <td>18.0</td>\n",
       "      <td>1857.0</td>\n",
       "      <td>2222.0</td>\n",
       "      <td>27486.0</td>\n",
       "      <td>19362.00</td>\n",
       "      <td>0.000000</td>\n",
       "      <td>0.000000</td>\n",
       "      <td>0.000000</td>\n",
       "      <td>0.000000</td>\n",
       "    </tr>\n",
       "    <tr>\n",
       "      <th>24355</th>\n",
       "      <td>1221.416667</td>\n",
       "      <td>13454.5</td>\n",
       "      <td>12117.0</td>\n",
       "      <td>1337.5</td>\n",
       "      <td>9804.0</td>\n",
       "      <td>292.5</td>\n",
       "      <td>1074.0</td>\n",
       "      <td>658.0</td>\n",
       "      <td>574.5</td>\n",
       "      <td>372.0</td>\n",
       "      <td>...</td>\n",
       "      <td>756.5</td>\n",
       "      <td>392.5</td>\n",
       "      <td>2163.5</td>\n",
       "      <td>2259.5</td>\n",
       "      <td>27800.0</td>\n",
       "      <td>19749.47</td>\n",
       "      <td>0.000000</td>\n",
       "      <td>0.000000</td>\n",
       "      <td>0.000000</td>\n",
       "      <td>0.000000</td>\n",
       "    </tr>\n",
       "    <tr>\n",
       "      <th>24356</th>\n",
       "      <td>1268.333333</td>\n",
       "      <td>13434.0</td>\n",
       "      <td>12204.0</td>\n",
       "      <td>1230.0</td>\n",
       "      <td>9786.0</td>\n",
       "      <td>326.0</td>\n",
       "      <td>964.0</td>\n",
       "      <td>675.0</td>\n",
       "      <td>621.0</td>\n",
       "      <td>393.0</td>\n",
       "      <td>...</td>\n",
       "      <td>763.0</td>\n",
       "      <td>767.0</td>\n",
       "      <td>2470.0</td>\n",
       "      <td>2297.0</td>\n",
       "      <td>28114.0</td>\n",
       "      <td>20136.94</td>\n",
       "      <td>0.000000</td>\n",
       "      <td>0.000000</td>\n",
       "      <td>0.000000</td>\n",
       "      <td>0.000000</td>\n",
       "    </tr>\n",
       "    <tr>\n",
       "      <th>24357</th>\n",
       "      <td>1301.895833</td>\n",
       "      <td>13434.0</td>\n",
       "      <td>12204.0</td>\n",
       "      <td>1230.0</td>\n",
       "      <td>9786.0</td>\n",
       "      <td>326.0</td>\n",
       "      <td>964.0</td>\n",
       "      <td>675.0</td>\n",
       "      <td>621.0</td>\n",
       "      <td>393.0</td>\n",
       "      <td>...</td>\n",
       "      <td>763.0</td>\n",
       "      <td>767.0</td>\n",
       "      <td>2470.0</td>\n",
       "      <td>2297.0</td>\n",
       "      <td>28114.0</td>\n",
       "      <td>20136.94</td>\n",
       "      <td>0.000000</td>\n",
       "      <td>0.000000</td>\n",
       "      <td>0.000000</td>\n",
       "      <td>0.000000</td>\n",
       "    </tr>\n",
       "    <tr>\n",
       "      <th>24358</th>\n",
       "      <td>1335.458333</td>\n",
       "      <td>13434.0</td>\n",
       "      <td>12204.0</td>\n",
       "      <td>1230.0</td>\n",
       "      <td>9786.0</td>\n",
       "      <td>326.0</td>\n",
       "      <td>964.0</td>\n",
       "      <td>675.0</td>\n",
       "      <td>621.0</td>\n",
       "      <td>393.0</td>\n",
       "      <td>...</td>\n",
       "      <td>763.0</td>\n",
       "      <td>767.0</td>\n",
       "      <td>2470.0</td>\n",
       "      <td>2297.0</td>\n",
       "      <td>28114.0</td>\n",
       "      <td>20136.94</td>\n",
       "      <td>0.000934</td>\n",
       "      <td>0.000651</td>\n",
       "      <td>0.000026</td>\n",
       "      <td>0.000013</td>\n",
       "    </tr>\n",
       "  </tbody>\n",
       "</table>\n",
       "<p>22620 rows × 51 columns</p>\n",
       "</div>"
      ],
      "text/plain": [
       "        rent_price  housing_units  occupied_housing_units  \\\n",
       "0      1054.833333        15417.0                 14057.0   \n",
       "1      1087.125000        15427.5                 14093.5   \n",
       "2      1119.416667        15438.0                 14130.0   \n",
       "3      1152.208333        15547.5                 14159.5   \n",
       "4      1185.000000        15657.0                 14189.0   \n",
       "...            ...            ...                     ...   \n",
       "24354  1174.500000        13475.0                 12030.0   \n",
       "24355  1221.416667        13454.5                 12117.0   \n",
       "24356  1268.333333        13434.0                 12204.0   \n",
       "24357  1301.895833        13434.0                 12204.0   \n",
       "24358  1335.458333        13434.0                 12204.0   \n",
       "\n",
       "       vacant_housing_units  dwellings_1_units_detached  \\\n",
       "0                    1360.0                      4737.0   \n",
       "1                    1334.0                      4721.5   \n",
       "2                    1308.0                      4706.0   \n",
       "3                    1388.0                      4700.5   \n",
       "4                    1468.0                      4695.0   \n",
       "...                     ...                         ...   \n",
       "24354                1445.0                      9822.0   \n",
       "24355                1337.5                      9804.0   \n",
       "24356                1230.0                      9786.0   \n",
       "24357                1230.0                      9786.0   \n",
       "24358                1230.0                      9786.0   \n",
       "\n",
       "       dwellings_1_units_attached  dwellings_2_units  dwellings_3_to_4_units  \\\n",
       "0                          1269.0             1780.0                  3970.0   \n",
       "1                          1288.0             1834.0                  3974.5   \n",
       "2                          1307.0             1888.0                  3979.0   \n",
       "3                          1267.5             1853.0                  4150.5   \n",
       "4                          1228.0             1818.0                  4322.0   \n",
       "...                           ...                ...                     ...   \n",
       "24354                       259.0             1184.0                   641.0   \n",
       "24355                       292.5             1074.0                   658.0   \n",
       "24356                       326.0              964.0                   675.0   \n",
       "24357                       326.0              964.0                   675.0   \n",
       "24358                       326.0              964.0                   675.0   \n",
       "\n",
       "       dwellings_5_to_9_units  dwellings_10_to_19_units  ...  amerindian_pop  \\\n",
       "0                      1031.0                     941.0  ...           102.0   \n",
       "1                      1013.5                     932.5  ...           107.5   \n",
       "2                       996.0                     924.0  ...           113.0   \n",
       "3                      1026.0                     892.0  ...           132.5   \n",
       "4                      1056.0                     860.0  ...           152.0   \n",
       "...                       ...                       ...  ...             ...   \n",
       "24354                   528.0                     351.0  ...           750.0   \n",
       "24355                   574.5                     372.0  ...           756.5   \n",
       "24356                   621.0                     393.0  ...           763.0   \n",
       "24357                   621.0                     393.0  ...           763.0   \n",
       "24358                   621.0                     393.0  ...           763.0   \n",
       "\n",
       "       other_race_pop  two_or_more_races_pop  hispanic_any_race  \\\n",
       "0                46.0                  611.0             5206.0   \n",
       "1                28.0                  614.5             5742.5   \n",
       "2                10.0                  618.0             6279.0   \n",
       "3                10.0                  635.0             6379.0   \n",
       "4                10.0                  652.0             6479.0   \n",
       "...               ...                    ...                ...   \n",
       "24354            18.0                 1857.0             2222.0   \n",
       "24355           392.5                 2163.5             2259.5   \n",
       "24356           767.0                 2470.0             2297.0   \n",
       "24357           767.0                 2470.0             2297.0   \n",
       "24358           767.0                 2470.0             2297.0   \n",
       "\n",
       "       not_hispanic_pop  income_per_capita  zip_cases_to_ttl  \\\n",
       "0               29422.0           25798.00          0.000000   \n",
       "1               29292.0           25623.00          0.000000   \n",
       "2               29162.0           25448.00          0.000000   \n",
       "3               29274.5           25855.50          0.000000   \n",
       "4               29387.0           26263.00          0.000000   \n",
       "...                 ...                ...               ...   \n",
       "24354           27486.0           19362.00          0.000000   \n",
       "24355           27800.0           19749.47          0.000000   \n",
       "24356           28114.0           20136.94          0.000000   \n",
       "24357           28114.0           20136.94          0.000000   \n",
       "24358           28114.0           20136.94          0.000934   \n",
       "\n",
       "       zip_new_cases_to_ttl  zip_deaths_to_ttl  zip_new_deaths_to_ttl  \n",
       "0                  0.000000           0.000000               0.000000  \n",
       "1                  0.000000           0.000000               0.000000  \n",
       "2                  0.000000           0.000000               0.000000  \n",
       "3                  0.000000           0.000000               0.000000  \n",
       "4                  0.000000           0.000000               0.000000  \n",
       "...                     ...                ...                    ...  \n",
       "24354              0.000000           0.000000               0.000000  \n",
       "24355              0.000000           0.000000               0.000000  \n",
       "24356              0.000000           0.000000               0.000000  \n",
       "24357              0.000000           0.000000               0.000000  \n",
       "24358              0.000651           0.000026               0.000013  \n",
       "\n",
       "[22620 rows x 51 columns]"
      ]
     },
     "execution_count": 3,
     "metadata": {},
     "output_type": "execute_result"
    }
   ],
   "source": [
    "zori_census_covid_biann_14_20[zori_census_covid_biann_14_20['year']<2020.5].drop(\n",
    "    'rent_next_biann',axis=1).iloc[:,2:]"
   ]
  },
  {
   "cell_type": "markdown",
   "metadata": {},
   "source": [
    "### Base Model"
   ]
  },
  {
   "cell_type": "code",
   "execution_count": 50,
   "metadata": {},
   "outputs": [],
   "source": [
    "x_train = zori_census_covid_biann_14_20[zori_census_covid_biann_14_20['year']<2020.5].drop(\n",
    "    'rent_next_biann',axis=1).iloc[:,2:]\n",
    "y_train = zori_census_covid_biann_14_20[zori_census_covid_biann_14_20['year']<2020.5]['rent_next_biann']\n",
    "x_test = zori_census_covid_biann_14_20[zori_census_covid_biann_14_20['year']==2020.5].drop(\n",
    "    'rent_next_biann',axis=1).iloc[:,2:]\n",
    "y_test = zori_census_covid_biann_14_20[zori_census_covid_biann_14_20['year']==2020.5]['rent_next_biann']"
   ]
  },
  {
   "cell_type": "code",
   "execution_count": 51,
   "metadata": {},
   "outputs": [
    {
     "data": {
      "text/plain": [
       "LinearRegression()"
      ]
     },
     "execution_count": 51,
     "metadata": {},
     "output_type": "execute_result"
    }
   ],
   "source": [
    "mlmodel = LinearRegression()\n",
    "\n",
    "mlmodel.fit(x_train, y_train)"
   ]
  },
  {
   "cell_type": "code",
   "execution_count": 52,
   "metadata": {},
   "outputs": [
    {
     "name": "stdout",
     "output_type": "stream",
     "text": [
      "0.998672441130259\n",
      "Train Score (Adj R Sq): 0.9986323312354979\n",
      "0.9592651582800028\n",
      "Test Score (Adj R Sq): 0.9580344255029176\n"
     ]
    }
   ],
   "source": [
    "# Regular Scores\n",
    "print(mlmodel.score(x_train, y_train))\n",
    "print(f'Train Score (Adj R Sq): {1 - (1-mlmodel.score(x_train, y_train))*(len(y_test)-1)/(len(y_test)-x_test.shape[1]-1)}')\n",
    "print(mlmodel.score(x_test, y_test))\n",
    "print(f'Test Score (Adj R Sq): {1 - (1-mlmodel.score(x_test, y_test))*(len(y_test)-1)/(len(y_test)-x_test.shape[1]-1)}')"
   ]
  },
  {
   "cell_type": "code",
   "execution_count": 53,
   "metadata": {
    "scrolled": true
   },
   "outputs": [
    {
     "data": {
      "text/plain": [
       "<Figure size 1600x2400 with 0 Axes>"
      ]
     },
     "execution_count": 53,
     "metadata": {},
     "output_type": "execute_result"
    },
    {
     "data": {
      "image/png": "[encoded data removed]",
      "text/plain": [
       "<Figure size 432x288 with 1 Axes>"
      ]
     },
     "metadata": {
      "needs_background": "light"
     },
     "output_type": "display_data"
    },
    {
     "data": {
      "text/plain": [
       "<Figure size 1600x2400 with 0 Axes>"
      ]
     },
     "metadata": {},
     "output_type": "display_data"
    }
   ],
   "source": [
    "y_predicted = mlmodel.predict(x_test)\n",
    "y_predicted\n",
    "plt.scatter(y_test, y_predicted)\n",
    "plt.title('Actual vs Predicted Rent Prices Next 6 Months')\n",
    "plt.xlabel('Actual Rent Prices Next 6 Months')\n",
    "plt.ylabel('Predicted Rent Prices Next 6 Months')\n",
    "plt.figure(figsize=(20, 30), dpi=80)"
   ]
  },
  {
   "cell_type": "code",
   "execution_count": 8,
   "metadata": {},
   "outputs": [
    {
     "data": {
      "text/plain": [
       "{'pca__n_components': 49}"
      ]
     },
     "execution_count": 8,
     "metadata": {},
     "output_type": "execute_result"
    }
   ],
   "source": [
    "scaler = StandardScaler()\n",
    "pca = PCA()\n",
    "mlmodel = LinearRegression()\n",
    "\n",
    "pipe = Pipeline(steps=[('pca', pca), ('mlmodel', mlmodel)])\n",
    "\n",
    "\n",
    "param_grid = {\n",
    "    'pca__n_components': range(1,zori_census_covid_biann_14_20.shape[1]-2,3)\n",
    "}\n",
    "search = GridSearchCV(pipe, param_grid, n_jobs=-1)\n",
    "search.fit(x_train, y_train)\n",
    "search.best_params_"
   ]
  },
  {
   "cell_type": "code",
   "execution_count": 9,
   "metadata": {},
   "outputs": [],
   "source": [
    "pca = PCA(n_components = search.best_params_['pca__n_components'])\n",
    "pca.fit(x_test)\n",
    "\n",
    "x_train = pca.transform(x_train)\n",
    "x_test = pca.transform(x_test)"
   ]
  },
  {
   "cell_type": "code",
   "execution_count": 10,
   "metadata": {},
   "outputs": [
    {
     "data": {
      "text/plain": [
       "LinearRegression()"
      ]
     },
     "execution_count": 10,
     "metadata": {},
     "output_type": "execute_result"
    }
   ],
   "source": [
    "mlmodel = LinearRegression()\n",
    "\n",
    "mlmodel.fit(x_train, y_train)"
   ]
  },
  {
   "cell_type": "code",
   "execution_count": 11,
   "metadata": {},
   "outputs": [
    {
     "name": "stdout",
     "output_type": "stream",
     "text": [
      "0.998672441130259\n",
      "Train Score (Adj R Sq): 0.9986339497784145\n",
      "0.959265158280523\n",
      "Test Score (Adj R Sq): 0.9580840889052245\n"
     ]
    }
   ],
   "source": [
    "print(mlmodel.score(x_train, y_train))\n",
    "print(f'Train Score (Adj R Sq): {1 - (1-mlmodel.score(x_train, y_train))*(len(y_test)-1)/(len(y_test)-x_test.shape[1]-1)}')\n",
    "print(mlmodel.score(x_test, y_test))\n",
    "print(f'Test Score (Adj R Sq): {1 - (1-mlmodel.score(x_test, y_test))*(len(y_test)-1)/(len(y_test)-x_test.shape[1]-1)}')"
   ]
  },
  {
   "cell_type": "code",
   "execution_count": 12,
   "metadata": {
    "scrolled": true
   },
   "outputs": [
    {
     "data": {
      "text/plain": [
       "<Figure size 1600x2400 with 0 Axes>"
      ]
     },
     "execution_count": 12,
     "metadata": {},
     "output_type": "execute_result"
    },
    {
     "data": {
      "image/png": "[encoded data removed]",
      "text/plain": [
       "<Figure size 432x288 with 1 Axes>"
      ]
     },
     "metadata": {
      "needs_background": "light"
     },
     "output_type": "display_data"
    },
    {
     "data": {
      "text/plain": [
       "<Figure size 1600x2400 with 0 Axes>"
      ]
     },
     "metadata": {},
     "output_type": "display_data"
    }
   ],
   "source": [
    "y_predicted = mlmodel.predict(x_test)\n",
    "y_predicted\n",
    "plt.scatter(y_test, y_predicted)\n",
    "plt.title('Actual vs Predicted Rent Prices Next 6 Months (PCA)')\n",
    "plt.xlabel('Actual Rent Prices Next 6 Months')\n",
    "plt.ylabel('Predicted Rent Prices Next 6 Months')\n",
    "plt.figure(figsize=(20, 30), dpi=80)"
   ]
  },
  {
   "cell_type": "markdown",
   "metadata": {},
   "source": [
    "### Model Using Only 2019 - 2020"
   ]
  },
  {
   "cell_type": "code",
   "execution_count": 13,
   "metadata": {},
   "outputs": [
    {
     "name": "stderr",
     "output_type": "stream",
     "text": [
      "<ipython-input-13-1b6ef760debb>:1: UserWarning: Boolean Series key will be reindexed to match DataFrame index.\n",
      "  x_train = zori_census_covid_biann_14_20[zori_census_covid_biann_14_20['year']>=2019][\n",
      "<ipython-input-13-1b6ef760debb>:3: UserWarning: Boolean Series key will be reindexed to match DataFrame index.\n",
      "  y_train = zori_census_covid_biann_14_20[zori_census_covid_biann_14_20['year']>=2019][\n",
      "<ipython-input-13-1b6ef760debb>:5: UserWarning: Boolean Series key will be reindexed to match DataFrame index.\n",
      "  x_test = zori_census_covid_biann_14_20[zori_census_covid_biann_14_20['year']>=2019][\n",
      "<ipython-input-13-1b6ef760debb>:7: UserWarning: Boolean Series key will be reindexed to match DataFrame index.\n",
      "  y_test = zori_census_covid_biann_14_20[zori_census_covid_biann_14_20['year']>=2019][\n"
     ]
    }
   ],
   "source": [
    "x_train = zori_census_covid_biann_14_20[zori_census_covid_biann_14_20['year']>=2019][\n",
    "    zori_census_covid_biann_14_20['year']<2020.5].drop('rent_next_biann',axis=1).iloc[:,2:]\n",
    "y_train = zori_census_covid_biann_14_20[zori_census_covid_biann_14_20['year']>=2019][\n",
    "    zori_census_covid_biann_14_20['year']<2020.5]['rent_next_biann']\n",
    "x_test = zori_census_covid_biann_14_20[zori_census_covid_biann_14_20['year']>=2019][\n",
    "    zori_census_covid_biann_14_20['year']==2020.5].drop('rent_next_biann',axis=1).iloc[:,2:]\n",
    "y_test = zori_census_covid_biann_14_20[zori_census_covid_biann_14_20['year']>=2019][\n",
    "    zori_census_covid_biann_14_20['year']==2020.5]['rent_next_biann']"
   ]
  },
  {
   "cell_type": "code",
   "execution_count": 14,
   "metadata": {},
   "outputs": [
    {
     "data": {
      "text/plain": [
       "LinearRegression()"
      ]
     },
     "execution_count": 14,
     "metadata": {},
     "output_type": "execute_result"
    }
   ],
   "source": [
    "mlmodel = LinearRegression()\n",
    "\n",
    "mlmodel.fit(x_train, y_train)"
   ]
  },
  {
   "cell_type": "code",
   "execution_count": 15,
   "metadata": {},
   "outputs": [
    {
     "name": "stdout",
     "output_type": "stream",
     "text": [
      "0.9984525002015\n",
      "Train Score (Adj R Sq): 0.998405745172043\n",
      "0.9775911401920463\n",
      "Test Score (Adj R Sq): 0.9769140952570904\n"
     ]
    }
   ],
   "source": [
    "# Regular Scores\n",
    "print(mlmodel.score(x_train, y_train))\n",
    "print(f'Train Score (Adj R Sq): {1 - (1-mlmodel.score(x_train, y_train))*(len(y_test)-1)/(len(y_test)-x_test.shape[1]-1)}')\n",
    "print(mlmodel.score(x_test, y_test))\n",
    "print(f'Test Score (Adj R Sq): {1 - (1-mlmodel.score(x_test, y_test))*(len(y_test)-1)/(len(y_test)-x_test.shape[1]-1)}')"
   ]
  },
  {
   "cell_type": "code",
   "execution_count": 16,
   "metadata": {
    "scrolled": true
   },
   "outputs": [
    {
     "data": {
      "text/plain": [
       "<Figure size 1600x2400 with 0 Axes>"
      ]
     },
     "execution_count": 16,
     "metadata": {},
     "output_type": "execute_result"
    },
    {
     "data": {
      "image/png": "[encoded data removed]",
      "text/plain": [
       "<Figure size 432x288 with 1 Axes>"
      ]
     },
     "metadata": {
      "needs_background": "light"
     },
     "output_type": "display_data"
    },
    {
     "data": {
      "text/plain": [
       "<Figure size 1600x2400 with 0 Axes>"
      ]
     },
     "metadata": {},
     "output_type": "display_data"
    }
   ],
   "source": [
    "y_predicted = mlmodel.predict(x_test)\n",
    "y_predicted\n",
    "plt.scatter(y_test, y_predicted)\n",
    "plt.title('Actual vs Predicted Rent Prices Next 6 Months')\n",
    "plt.xlabel('Actual Rent Prices Next 6 Months')\n",
    "plt.ylabel('Predicted Rent Prices Next 6 Months')\n",
    "plt.figure(figsize=(20, 30), dpi=80)"
   ]
  },
  {
   "cell_type": "code",
   "execution_count": 17,
   "metadata": {},
   "outputs": [
    {
     "data": {
      "text/plain": [
       "{'pca__n_components': 46}"
      ]
     },
     "execution_count": 17,
     "metadata": {},
     "output_type": "execute_result"
    }
   ],
   "source": [
    "scaler = StandardScaler()\n",
    "pca = PCA()\n",
    "mlmodel = LinearRegression()\n",
    "\n",
    "pipe = Pipeline(steps=[('pca', pca), ('mlmodel', mlmodel)])\n",
    "\n",
    "\n",
    "param_grid = {\n",
    "    'pca__n_components': range(1,zori_census_covid_biann_14_20.shape[1]-2,3)\n",
    "}\n",
    "search = GridSearchCV(pipe, param_grid, n_jobs=-1)\n",
    "search.fit(x_train, y_train)\n",
    "search.best_params_"
   ]
  },
  {
   "cell_type": "code",
   "execution_count": 18,
   "metadata": {},
   "outputs": [],
   "source": [
    "pca = PCA(n_components = search.best_params_['pca__n_components'])\n",
    "pca.fit(x_test)\n",
    "\n",
    "x_train = pca.transform(x_train)\n",
    "x_test = pca.transform(x_test)"
   ]
  },
  {
   "cell_type": "code",
   "execution_count": 19,
   "metadata": {},
   "outputs": [
    {
     "data": {
      "text/plain": [
       "LinearRegression()"
      ]
     },
     "execution_count": 19,
     "metadata": {},
     "output_type": "execute_result"
    }
   ],
   "source": [
    "mlmodel = LinearRegression()\n",
    "\n",
    "mlmodel.fit(x_train, y_train)"
   ]
  },
  {
   "cell_type": "code",
   "execution_count": 20,
   "metadata": {
    "scrolled": true
   },
   "outputs": [
    {
     "name": "stdout",
     "output_type": "stream",
     "text": [
      "0.9984490279375206\n",
      "Train Score (Adj R Sq): 0.9984068869364137\n",
      "0.9892618587388744\n",
      "Test Score (Adj R Sq): 0.9889700958930316\n"
     ]
    }
   ],
   "source": [
    "print(mlmodel.score(x_train, y_train))\n",
    "print(f'Train Score (Adj R Sq): {1 - (1-mlmodel.score(x_train, y_train))*(len(y_test)-1)/(len(y_test)-x_test.shape[1]-1)}')\n",
    "print(mlmodel.score(x_test, y_test))\n",
    "print(f'Test Score (Adj R Sq): {1 - (1-mlmodel.score(x_test, y_test))*(len(y_test)-1)/(len(y_test)-x_test.shape[1]-1)}')"
   ]
  },
  {
   "cell_type": "code",
   "execution_count": 21,
   "metadata": {
    "scrolled": false
   },
   "outputs": [
    {
     "data": {
      "text/plain": [
       "<Figure size 1600x2400 with 0 Axes>"
      ]
     },
     "execution_count": 21,
     "metadata": {},
     "output_type": "execute_result"
    },
    {
     "data": {
      "image/png": "[encoded data removed]",
      "text/plain": [
       "<Figure size 432x288 with 1 Axes>"
      ]
     },
     "metadata": {
      "needs_background": "light"
     },
     "output_type": "display_data"
    },
    {
     "data": {
      "text/plain": [
       "<Figure size 1600x2400 with 0 Axes>"
      ]
     },
     "metadata": {},
     "output_type": "display_data"
    }
   ],
   "source": [
    "y_predicted = mlmodel.predict(x_test)\n",
    "y_predicted\n",
    "plt.scatter(y_test, y_predicted)\n",
    "plt.title('Actual vs Predicted Rent Prices Next 6 Months (PCA)')\n",
    "plt.xlabel('Actual Rent Prices Next 6 Months')\n",
    "plt.ylabel('Predicted Rent Prices Next 6 Months')\n",
    "plt.figure(figsize=(20, 30), dpi=80)"
   ]
  },
  {
   "cell_type": "markdown",
   "metadata": {},
   "source": [
    "### Reduce using Stepwise and Rerun Models"
   ]
  },
  {
   "cell_type": "code",
   "execution_count": 22,
   "metadata": {},
   "outputs": [],
   "source": [
    "import statsmodels.api as sm"
   ]
  },
  {
   "cell_type": "code",
   "execution_count": 23,
   "metadata": {},
   "outputs": [],
   "source": [
    "def forward_stepwise(y,X):\n",
    "    # Create and fit the model\n",
    "    X_add_const = sm.add_constant(X)\n",
    "    continue_ = True\n",
    "    stepnum = 1\n",
    "    while continue_:\n",
    "\n",
    "        ols = sm.OLS(y, X_add_const).fit()\n",
    "        pvals = ols.pvalues.sort_values(ascending=False)\n",
    "        if pvals.index[0] != \"const\":\n",
    "            highest_pval = pvals[0]\n",
    "            highest_pval_feat = pvals.index[0]\n",
    "        elif pvals.index[0] == \"const\":\n",
    "            highest_pval = pvals[1]\n",
    "            highest_pval_feat = pvals.index[1]\n",
    "        \n",
    "        if highest_pval > 0.05:\n",
    "\n",
    "            print(f'Step {stepnum}')\n",
    "            print(f'Adj R Squared: {ols.rsquared_adj}')\n",
    "            print(f'Feature with Largest p-value: {highest_pval_feat}, {highest_pval}')\n",
    "            stepnum = stepnum + 1\n",
    "\n",
    "            X_add_const = X_add_const.drop(highest_pval_feat, axis=1)\n",
    "        else: \n",
    "            continue_ = False\n",
    "    X = X_add_const.iloc[:,1:]\n",
    "    return X"
   ]
  },
  {
   "cell_type": "code",
   "execution_count": 24,
   "metadata": {},
   "outputs": [
    {
     "name": "stderr",
     "output_type": "stream",
     "text": [
      "<ipython-input-24-1b6ef760debb>:1: UserWarning: Boolean Series key will be reindexed to match DataFrame index.\n",
      "  x_train = zori_census_covid_biann_14_20[zori_census_covid_biann_14_20['year']>=2019][\n",
      "<ipython-input-24-1b6ef760debb>:3: UserWarning: Boolean Series key will be reindexed to match DataFrame index.\n",
      "  y_train = zori_census_covid_biann_14_20[zori_census_covid_biann_14_20['year']>=2019][\n",
      "<ipython-input-24-1b6ef760debb>:5: UserWarning: Boolean Series key will be reindexed to match DataFrame index.\n",
      "  x_test = zori_census_covid_biann_14_20[zori_census_covid_biann_14_20['year']>=2019][\n",
      "<ipython-input-24-1b6ef760debb>:7: UserWarning: Boolean Series key will be reindexed to match DataFrame index.\n",
      "  y_test = zori_census_covid_biann_14_20[zori_census_covid_biann_14_20['year']>=2019][\n"
     ]
    }
   ],
   "source": [
    "x_train = zori_census_covid_biann_14_20[zori_census_covid_biann_14_20['year']>=2019][\n",
    "    zori_census_covid_biann_14_20['year']<2020.5].drop('rent_next_biann',axis=1).iloc[:,2:]\n",
    "y_train = zori_census_covid_biann_14_20[zori_census_covid_biann_14_20['year']>=2019][\n",
    "    zori_census_covid_biann_14_20['year']<2020.5]['rent_next_biann']\n",
    "x_test = zori_census_covid_biann_14_20[zori_census_covid_biann_14_20['year']>=2019][\n",
    "    zori_census_covid_biann_14_20['year']==2020.5].drop('rent_next_biann',axis=1).iloc[:,2:]\n",
    "y_test = zori_census_covid_biann_14_20[zori_census_covid_biann_14_20['year']>=2019][\n",
    "    zori_census_covid_biann_14_20['year']==2020.5]['rent_next_biann']"
   ]
  },
  {
   "cell_type": "code",
   "execution_count": 25,
   "metadata": {},
   "outputs": [
    {
     "name": "stdout",
     "output_type": "stream",
     "text": [
      "Step 1\n",
      "Adj R Squared: 0.9984381354770119\n",
      "Feature with Largest p-value: housing_units, 0.9221842242061163\n",
      "Step 2\n",
      "Adj R Squared: 0.9984381354770119\n",
      "Feature with Largest p-value: zip_new_deaths_to_ttl, 0.7542023767469404\n",
      "Step 3\n",
      "Adj R Squared: 0.9984384078538864\n",
      "Feature with Largest p-value: housing_built_1939_or_earlier, 0.4896328444939395\n",
      "Step 4\n",
      "Adj R Squared: 0.9984385656126726\n",
      "Feature with Largest p-value: zip_deaths_to_ttl, 0.21751365949028714\n",
      "Step 5\n",
      "Adj R Squared: 0.9984384083616437\n",
      "Feature with Largest p-value: income_200000_or_more, 0.09103859771163267\n",
      "Step 6\n",
      "Adj R Squared: 0.9984378480062993\n",
      "Feature with Largest p-value: income_100000_149999, 0.4435744684349828\n",
      "Step 7\n",
      "Adj R Squared: 0.9984379726198336\n",
      "Feature with Largest p-value: income_75000_99999, 0.1716346850789406\n",
      "Step 8\n",
      "Adj R Squared: 0.9984377103835566\n",
      "Feature with Largest p-value: other_race_pop, 0.09055864810163726\n",
      "Step 9\n",
      "Adj R Squared: 0.9984371475356658\n",
      "Feature with Largest p-value: two_or_more_races_pop, 0.5483665036302345\n",
      "Step 10\n",
      "Adj R Squared: 0.9984373405764676\n",
      "Feature with Largest p-value: rent_25_to_30_percent, 0.06617595744595733\n",
      "Step 11\n",
      "Adj R Squared: 0.9984366235510532\n",
      "Feature with Largest p-value: female_pop, 0.10560415080635466\n",
      "Step 12\n",
      "Adj R Squared: 0.9984366235510532\n",
      "Feature with Largest p-value: rent_30_to_35_percent, 0.05546876067713856\n"
     ]
    }
   ],
   "source": [
    "feats_to_keep = forward_stepwise(y_train,x_train).columns"
   ]
  },
  {
   "cell_type": "code",
   "execution_count": 26,
   "metadata": {
    "scrolled": false
   },
   "outputs": [
    {
     "data": {
      "text/plain": [
       "Index(['rent_price', 'occupied_housing_units', 'vacant_housing_units',\n",
       "       'dwellings_1_units_detached', 'dwellings_1_units_attached',\n",
       "       'dwellings_2_units', 'dwellings_3_to_4_units', 'dwellings_5_to_9_units',\n",
       "       'dwellings_10_to_19_units', 'dwellings_20_or_more_units',\n",
       "       'mobile_homes', 'owner_occupied_housing_units_median_value',\n",
       "       'median_rent', 'rent_under_15_percent', 'rent_15_to_20_percent',\n",
       "       'rent_20_to_25_percent', 'rent_over_35_percent',\n",
       "       'rent_burden_not_computed', 'million_dollar_housing_units',\n",
       "       'median_income', 'income_less_10000', 'income_10000_14999',\n",
       "       'income_15000_24999', 'income_25000_34999', 'income_35000_49999',\n",
       "       'income_50000_74999', 'income_150000_199999', 'male_pop', 'pop_16_over',\n",
       "       'white_pop', 'black_pop', 'asian_pop', 'hispanic_pop', 'amerindian_pop',\n",
       "       'hispanic_any_race', 'not_hispanic_pop', 'income_per_capita',\n",
       "       'zip_cases_to_ttl', 'zip_new_cases_to_ttl'],\n",
       "      dtype='object')"
      ]
     },
     "execution_count": 26,
     "metadata": {},
     "output_type": "execute_result"
    }
   ],
   "source": [
    "feats_to_keep"
   ]
  },
  {
   "cell_type": "code",
   "execution_count": 63,
   "metadata": {
    "scrolled": true
   },
   "outputs": [
    {
     "name": "stderr",
     "output_type": "stream",
     "text": [
      "<ipython-input-63-182b0a93bcba>:1: UserWarning: Boolean Series key will be reindexed to match DataFrame index.\n",
      "  x_train = zori_census_covid_biann_14_20[zori_census_covid_biann_14_20['year']>=2019][\n",
      "<ipython-input-63-182b0a93bcba>:3: UserWarning: Boolean Series key will be reindexed to match DataFrame index.\n",
      "  y_train = zori_census_covid_biann_14_20[zori_census_covid_biann_14_20['year']>=2019][\n",
      "<ipython-input-63-182b0a93bcba>:5: UserWarning: Boolean Series key will be reindexed to match DataFrame index.\n",
      "  x_test = zori_census_covid_biann_14_20[zori_census_covid_biann_14_20['year']>=2019][\n",
      "<ipython-input-63-182b0a93bcba>:7: UserWarning: Boolean Series key will be reindexed to match DataFrame index.\n",
      "  y_test = zori_census_covid_biann_14_20[zori_census_covid_biann_14_20['year']>=2019][\n"
     ]
    }
   ],
   "source": [
    "x_train = zori_census_covid_biann_14_20[zori_census_covid_biann_14_20['year']>=2019][\n",
    "    zori_census_covid_biann_14_20['year']<2020.5].drop('rent_next_biann',axis=1)[feats_to_keep]\n",
    "y_train = zori_census_covid_biann_14_20[zori_census_covid_biann_14_20['year']>=2019][\n",
    "    zori_census_covid_biann_14_20['year']<2020.5]['rent_next_biann']\n",
    "x_test = zori_census_covid_biann_14_20[zori_census_covid_biann_14_20['year']>=2019][\n",
    "    zori_census_covid_biann_14_20['year']==2020.5].drop('rent_next_biann',axis=1)[feats_to_keep]\n",
    "y_test = zori_census_covid_biann_14_20[zori_census_covid_biann_14_20['year']>=2019][\n",
    "    zori_census_covid_biann_14_20['year']==2020.5]['rent_next_biann']"
   ]
  },
  {
   "cell_type": "code",
   "execution_count": 64,
   "metadata": {},
   "outputs": [
    {
     "name": "stdout",
     "output_type": "stream",
     "text": [
      "0.9984472069441692\n",
      "Train Score (Adj R Sq): 0.9984115840446531\n",
      "0.981404733752503\n",
      "Test Score (Adj R Sq): 0.9809781364680016\n"
     ]
    },
    {
     "data": {
      "text/plain": [
       "<Figure size 1600x2400 with 0 Axes>"
      ]
     },
     "execution_count": 64,
     "metadata": {},
     "output_type": "execute_result"
    },
    {
     "data": {
      "image/png": "[encoded data removed]",
      "text/plain": [
       "<Figure size 432x288 with 1 Axes>"
      ]
     },
     "metadata": {
      "needs_background": "light"
     },
     "output_type": "display_data"
    },
    {
     "data": {
      "text/plain": [
       "<Figure size 1600x2400 with 0 Axes>"
      ]
     },
     "metadata": {},
     "output_type": "display_data"
    }
   ],
   "source": [
    "mlmodel = LinearRegression()\n",
    "\n",
    "mlmodel.fit(x_train, y_train)\n",
    "\n",
    "# Regular Scores\n",
    "print(mlmodel.score(x_train, y_train))\n",
    "print(f'Train Score (Adj R Sq): {1 - (1-mlmodel.score(x_train, y_train))*(len(y_test)-1)/(len(y_test)-x_test.shape[1]-1)}')\n",
    "print(mlmodel.score(x_test, y_test))\n",
    "print(f'Test Score (Adj R Sq): {1 - (1-mlmodel.score(x_test, y_test))*(len(y_test)-1)/(len(y_test)-x_test.shape[1]-1)}')\n",
    "\n",
    "y_predicted = mlmodel.predict(x_test)\n",
    "y_predicted\n",
    "plt.scatter(y_test, y_predicted)\n",
    "plt.title('Actual vs Predicted Rent Prices Next 6 Months')\n",
    "plt.xlabel('Actual Rent Prices Next 6 Months')\n",
    "plt.ylabel('Predicted Rent Prices Next 6 Months')\n",
    "plt.figure(figsize=(20, 30), dpi=80)"
   ]
  },
  {
   "cell_type": "code",
   "execution_count": 65,
   "metadata": {},
   "outputs": [
    {
     "data": {
      "text/plain": [
       "array([ 1.03295541e+00,  4.82344650e-02,  5.16994131e-02, -4.65119758e-02,\n",
       "       -4.72696095e-02, -5.09597430e-02, -4.71030764e-02, -4.63933764e-02,\n",
       "       -5.19898109e-02, -4.95057360e-02, -4.93220363e-02, -4.60039364e-05,\n",
       "       -3.61069515e-02, -2.44019596e-02,  5.24176018e-03,  5.16330537e-03,\n",
       "        5.77592477e-03,  8.39314867e-03,  5.74580505e-03, -1.54357581e-04,\n",
       "       -1.30308425e+00, -5.15902161e+00, -5.38899207e-01, -1.06977437e+00,\n",
       "       -1.45412913e+00, -5.42962943e-01, -9.64140172e-01, -1.58764180e-03,\n",
       "       -1.88798415e-03, -3.99169665e-04, -7.78402075e-04, -9.83406983e-04,\n",
       "        1.27564095e-03,  6.26563075e-03,  4.45674482e-04,  8.79376655e-04,\n",
       "       -6.47593463e-04, -3.38634296e+04,  5.48408699e+04])"
      ]
     },
     "execution_count": 65,
     "metadata": {},
     "output_type": "execute_result"
    }
   ],
   "source": [
    "mlmodel.coef_"
   ]
  },
  {
   "cell_type": "code",
   "execution_count": 66,
   "metadata": {},
   "outputs": [
    {
     "data": {
      "text/html": [
       "<div>\n",
       "<style scoped>\n",
       "    .dataframe tbody tr th:only-of-type {\n",
       "        vertical-align: middle;\n",
       "    }\n",
       "\n",
       "    .dataframe tbody tr th {\n",
       "        vertical-align: top;\n",
       "    }\n",
       "\n",
       "    .dataframe thead th {\n",
       "        text-align: right;\n",
       "    }\n",
       "</style>\n",
       "<table border=\"1\" class=\"dataframe\">\n",
       "  <thead>\n",
       "    <tr style=\"text-align: right;\">\n",
       "      <th></th>\n",
       "      <th>Features</th>\n",
       "      <th>Coefficients</th>\n",
       "    </tr>\n",
       "  </thead>\n",
       "  <tbody>\n",
       "    <tr>\n",
       "      <th>38</th>\n",
       "      <td>zip_new_cases_to_ttl</td>\n",
       "      <td>54840.869914</td>\n",
       "    </tr>\n",
       "    <tr>\n",
       "      <th>0</th>\n",
       "      <td>rent_price</td>\n",
       "      <td>1.032955</td>\n",
       "    </tr>\n",
       "    <tr>\n",
       "      <th>2</th>\n",
       "      <td>vacant_housing_units</td>\n",
       "      <td>0.051699</td>\n",
       "    </tr>\n",
       "    <tr>\n",
       "      <th>1</th>\n",
       "      <td>occupied_housing_units</td>\n",
       "      <td>0.048234</td>\n",
       "    </tr>\n",
       "    <tr>\n",
       "      <th>17</th>\n",
       "      <td>rent_burden_not_computed</td>\n",
       "      <td>0.008393</td>\n",
       "    </tr>\n",
       "    <tr>\n",
       "      <th>33</th>\n",
       "      <td>amerindian_pop</td>\n",
       "      <td>0.006266</td>\n",
       "    </tr>\n",
       "    <tr>\n",
       "      <th>16</th>\n",
       "      <td>rent_over_35_percent</td>\n",
       "      <td>0.005776</td>\n",
       "    </tr>\n",
       "    <tr>\n",
       "      <th>18</th>\n",
       "      <td>million_dollar_housing_units</td>\n",
       "      <td>0.005746</td>\n",
       "    </tr>\n",
       "    <tr>\n",
       "      <th>14</th>\n",
       "      <td>rent_15_to_20_percent</td>\n",
       "      <td>0.005242</td>\n",
       "    </tr>\n",
       "    <tr>\n",
       "      <th>15</th>\n",
       "      <td>rent_20_to_25_percent</td>\n",
       "      <td>0.005163</td>\n",
       "    </tr>\n",
       "    <tr>\n",
       "      <th>5</th>\n",
       "      <td>dwellings_2_units</td>\n",
       "      <td>-0.050960</td>\n",
       "    </tr>\n",
       "    <tr>\n",
       "      <th>8</th>\n",
       "      <td>dwellings_10_to_19_units</td>\n",
       "      <td>-0.051990</td>\n",
       "    </tr>\n",
       "    <tr>\n",
       "      <th>22</th>\n",
       "      <td>income_15000_24999</td>\n",
       "      <td>-0.538899</td>\n",
       "    </tr>\n",
       "    <tr>\n",
       "      <th>25</th>\n",
       "      <td>income_50000_74999</td>\n",
       "      <td>-0.542963</td>\n",
       "    </tr>\n",
       "    <tr>\n",
       "      <th>26</th>\n",
       "      <td>income_150000_199999</td>\n",
       "      <td>-0.964140</td>\n",
       "    </tr>\n",
       "    <tr>\n",
       "      <th>23</th>\n",
       "      <td>income_25000_34999</td>\n",
       "      <td>-1.069774</td>\n",
       "    </tr>\n",
       "    <tr>\n",
       "      <th>20</th>\n",
       "      <td>income_less_10000</td>\n",
       "      <td>-1.303084</td>\n",
       "    </tr>\n",
       "    <tr>\n",
       "      <th>24</th>\n",
       "      <td>income_35000_49999</td>\n",
       "      <td>-1.454129</td>\n",
       "    </tr>\n",
       "    <tr>\n",
       "      <th>21</th>\n",
       "      <td>income_10000_14999</td>\n",
       "      <td>-5.159022</td>\n",
       "    </tr>\n",
       "    <tr>\n",
       "      <th>37</th>\n",
       "      <td>zip_cases_to_ttl</td>\n",
       "      <td>-33863.429645</td>\n",
       "    </tr>\n",
       "  </tbody>\n",
       "</table>\n",
       "</div>"
      ],
      "text/plain": [
       "                        Features  Coefficients\n",
       "38          zip_new_cases_to_ttl  54840.869914\n",
       "0                     rent_price      1.032955\n",
       "2           vacant_housing_units      0.051699\n",
       "1         occupied_housing_units      0.048234\n",
       "17      rent_burden_not_computed      0.008393\n",
       "33                amerindian_pop      0.006266\n",
       "16          rent_over_35_percent      0.005776\n",
       "18  million_dollar_housing_units      0.005746\n",
       "14         rent_15_to_20_percent      0.005242\n",
       "15         rent_20_to_25_percent      0.005163\n",
       "5              dwellings_2_units     -0.050960\n",
       "8       dwellings_10_to_19_units     -0.051990\n",
       "22            income_15000_24999     -0.538899\n",
       "25            income_50000_74999     -0.542963\n",
       "26          income_150000_199999     -0.964140\n",
       "23            income_25000_34999     -1.069774\n",
       "20             income_less_10000     -1.303084\n",
       "24            income_35000_49999     -1.454129\n",
       "21            income_10000_14999     -5.159022\n",
       "37              zip_cases_to_ttl -33863.429645"
      ]
     },
     "execution_count": 66,
     "metadata": {},
     "output_type": "execute_result"
    }
   ],
   "source": [
    "mlm_coef_list = [lis_ for lis_ in mlmodel.coef_]\n",
    "mlm_coefs = pd.DataFrame({'Features':x_test.columns, 'Coefficients':mlm_coef_list}).sort_values(by='Coefficients', ascending=False)\n",
    "mlm_coefs_strong = pd.concat((mlm_coefs.head(10), mlm_coefs.tail(10)), axis=0)\n",
    "mlm_coefs_strong"
   ]
  },
  {
   "cell_type": "code",
   "execution_count": 67,
   "metadata": {},
   "outputs": [
    {
     "data": {
      "text/html": [
       "<div>\n",
       "<style scoped>\n",
       "    .dataframe tbody tr th:only-of-type {\n",
       "        vertical-align: middle;\n",
       "    }\n",
       "\n",
       "    .dataframe tbody tr th {\n",
       "        vertical-align: top;\n",
       "    }\n",
       "\n",
       "    .dataframe thead th {\n",
       "        text-align: right;\n",
       "    }\n",
       "</style>\n",
       "<table border=\"1\" class=\"dataframe\">\n",
       "  <thead>\n",
       "    <tr style=\"text-align: right;\">\n",
       "      <th></th>\n",
       "      <th>Features</th>\n",
       "      <th>Coefficients</th>\n",
       "    </tr>\n",
       "  </thead>\n",
       "  <tbody>\n",
       "    <tr>\n",
       "      <th>38</th>\n",
       "      <td>zip_new_cases_to_ttl</td>\n",
       "      <td>54840.869914</td>\n",
       "    </tr>\n",
       "    <tr>\n",
       "      <th>0</th>\n",
       "      <td>rent_price</td>\n",
       "      <td>1.032955</td>\n",
       "    </tr>\n",
       "    <tr>\n",
       "      <th>23</th>\n",
       "      <td>income_25000_34999</td>\n",
       "      <td>-1.069774</td>\n",
       "    </tr>\n",
       "    <tr>\n",
       "      <th>20</th>\n",
       "      <td>income_less_10000</td>\n",
       "      <td>-1.303084</td>\n",
       "    </tr>\n",
       "    <tr>\n",
       "      <th>24</th>\n",
       "      <td>income_35000_49999</td>\n",
       "      <td>-1.454129</td>\n",
       "    </tr>\n",
       "    <tr>\n",
       "      <th>21</th>\n",
       "      <td>income_10000_14999</td>\n",
       "      <td>-5.159022</td>\n",
       "    </tr>\n",
       "    <tr>\n",
       "      <th>37</th>\n",
       "      <td>zip_cases_to_ttl</td>\n",
       "      <td>-33863.429645</td>\n",
       "    </tr>\n",
       "  </tbody>\n",
       "</table>\n",
       "</div>"
      ],
      "text/plain": [
       "                Features  Coefficients\n",
       "38  zip_new_cases_to_ttl  54840.869914\n",
       "0             rent_price      1.032955\n",
       "23    income_25000_34999     -1.069774\n",
       "20     income_less_10000     -1.303084\n",
       "24    income_35000_49999     -1.454129\n",
       "21    income_10000_14999     -5.159022\n",
       "37      zip_cases_to_ttl -33863.429645"
      ]
     },
     "execution_count": 67,
     "metadata": {},
     "output_type": "execute_result"
    }
   ],
   "source": [
    "mlm_coefs_df = mlm_coefs[list(map(any, zip(mlm_coefs['Coefficients']>1, mlm_coefs['Coefficients']<-1)))]\n",
    "mlm_coefs_df"
   ]
  },
  {
   "cell_type": "code",
   "execution_count": 68,
   "metadata": {},
   "outputs": [
    {
     "name": "stdout",
     "output_type": "stream",
     "text": [
      "{'pca__n_components': 37}\n",
      "0.9983615214389386\n",
      "Train Score (Adj R Sq): 0.9983259023397851\n",
      "0.9965756597813907\n",
      "Test Score (Adj R Sq): 0.9965012176027254\n"
     ]
    },
    {
     "data": {
      "text/plain": [
       "<Figure size 1600x2400 with 0 Axes>"
      ]
     },
     "execution_count": 68,
     "metadata": {},
     "output_type": "execute_result"
    },
    {
     "data": {
      "image/png": "[encoded data removed]",
      "text/plain": [
       "<Figure size 432x288 with 1 Axes>"
      ]
     },
     "metadata": {
      "needs_background": "light"
     },
     "output_type": "display_data"
    },
    {
     "data": {
      "text/plain": [
       "<Figure size 1600x2400 with 0 Axes>"
      ]
     },
     "metadata": {},
     "output_type": "display_data"
    }
   ],
   "source": [
    "scaler = StandardScaler()\n",
    "pca = PCA()\n",
    "mlmodel = LinearRegression()\n",
    "\n",
    "pipe = Pipeline(steps=[('pca', pca), ('mlmodel', mlmodel)])\n",
    "\n",
    "\n",
    "param_grid = {\n",
    "    'pca__n_components': range(1,zori_census_covid_biann_14_20.shape[1]-2,3)\n",
    "}\n",
    "search = GridSearchCV(pipe, param_grid, n_jobs=-1)\n",
    "search.fit(x_train, y_train)\n",
    "print(search.best_params_)\n",
    "\n",
    "pca = PCA(n_components = search.best_params_['pca__n_components'])\n",
    "pca.fit(x_test)\n",
    "\n",
    "x_train = pca.transform(x_train)\n",
    "x_test = pca.transform(x_test)\n",
    "\n",
    "mlmodel = LinearRegression()\n",
    "\n",
    "mlmodel.fit(x_train, y_train)\n",
    "\n",
    "print(mlmodel.score(x_train, y_train))\n",
    "print(f'Train Score (Adj R Sq): {1 - (1-mlmodel.score(x_train, y_train))*(len(y_test)-1)/(len(y_test)-x_test.shape[1]-1)}')\n",
    "print(mlmodel.score(x_test, y_test))\n",
    "print(f'Test Score (Adj R Sq): {1 - (1-mlmodel.score(x_test, y_test))*(len(y_test)-1)/(len(y_test)-x_test.shape[1]-1)}')\n",
    "\n",
    "y_predicted = mlmodel.predict(x_test)\n",
    "y_predicted\n",
    "plt.scatter(y_test, y_predicted)\n",
    "plt.title('Actual vs Predicted Rent Prices Next 6 Months (PCA)')\n",
    "plt.xlabel('Actual Rent Prices Next 6 Months')\n",
    "plt.ylabel('Predicted Rent Prices Next 6 Months')\n",
    "plt.figure(figsize=(20, 30), dpi=80)"
   ]
  },
  {
   "cell_type": "code",
   "execution_count": 69,
   "metadata": {},
   "outputs": [],
   "source": [
    "x_2021 = zori_census_covid_biann[zori_census_covid_biann['year']==2021].drop('rent_next_biann',axis=1)[feats_to_keep]\n",
    "x_2021 = pca.transform(x_2021)"
   ]
  },
  {
   "cell_type": "code",
   "execution_count": 71,
   "metadata": {},
   "outputs": [],
   "source": [
    "y_2021 = mlmodel.predict(x_2021)"
   ]
  },
  {
   "cell_type": "code",
   "execution_count": 81,
   "metadata": {},
   "outputs": [
    {
     "data": {
      "text/plain": [
       "14       0.075690\n",
       "29       0.039666\n",
       "44       0.058950\n",
       "59       0.055529\n",
       "74       0.045943\n",
       "           ...   \n",
       "26039    0.061031\n",
       "26054    0.067224\n",
       "26069    0.048801\n",
       "26084    0.049130\n",
       "26099    0.087859\n",
       "Name: rent_price, Length: 1740, dtype: float64"
      ]
     },
     "execution_count": 81,
     "metadata": {},
     "output_type": "execute_result"
    }
   ],
   "source": [
    "((y_2021-zori_census_covid_biann[zori_census_covid_biann['year']==2021].drop('rent_next_biann',axis=1)['rent_price'])/\n",
    "    zori_census_covid_biann[zori_census_covid_biann['year']==2021].drop('rent_next_biann',axis=1)['rent_price'])#.sort_values(ascending=False).tail(5)"
   ]
  },
  {
   "cell_type": "code",
   "execution_count": 96,
   "metadata": {
    "scrolled": true
   },
   "outputs": [
    {
     "data": {
      "text/html": [
       "<div>\n",
       "<style scoped>\n",
       "    .dataframe tbody tr th:only-of-type {\n",
       "        vertical-align: middle;\n",
       "    }\n",
       "\n",
       "    .dataframe tbody tr th {\n",
       "        vertical-align: top;\n",
       "    }\n",
       "\n",
       "    .dataframe thead th {\n",
       "        text-align: right;\n",
       "    }\n",
       "</style>\n",
       "<table border=\"1\" class=\"dataframe\">\n",
       "  <thead>\n",
       "    <tr style=\"text-align: right;\">\n",
       "      <th></th>\n",
       "      <th>RegionName</th>\n",
       "      <th>percent_rent_change</th>\n",
       "    </tr>\n",
       "  </thead>\n",
       "  <tbody>\n",
       "    <tr>\n",
       "      <th>19574</th>\n",
       "      <td>85706</td>\n",
       "      <td>0.195756</td>\n",
       "    </tr>\n",
       "    <tr>\n",
       "      <th>17369</th>\n",
       "      <td>79936</td>\n",
       "      <td>0.188677</td>\n",
       "    </tr>\n",
       "    <tr>\n",
       "      <th>17354</th>\n",
       "      <td>79924</td>\n",
       "      <td>0.178257</td>\n",
       "    </tr>\n",
       "    <tr>\n",
       "      <th>12479</th>\n",
       "      <td>46222</td>\n",
       "      <td>0.163664</td>\n",
       "    </tr>\n",
       "    <tr>\n",
       "      <th>12509</th>\n",
       "      <td>46226</td>\n",
       "      <td>0.162247</td>\n",
       "    </tr>\n",
       "    <tr>\n",
       "      <th>1574</th>\n",
       "      <td>10025</td>\n",
       "      <td>-0.048770</td>\n",
       "    </tr>\n",
       "    <tr>\n",
       "      <th>1544</th>\n",
       "      <td>10023</td>\n",
       "      <td>-0.049635</td>\n",
       "    </tr>\n",
       "    <tr>\n",
       "      <th>1754</th>\n",
       "      <td>10065</td>\n",
       "      <td>-0.050403</td>\n",
       "    </tr>\n",
       "    <tr>\n",
       "      <th>1619</th>\n",
       "      <td>10028</td>\n",
       "      <td>-0.056674</td>\n",
       "    </tr>\n",
       "    <tr>\n",
       "      <th>1559</th>\n",
       "      <td>10024</td>\n",
       "      <td>-0.058383</td>\n",
       "    </tr>\n",
       "  </tbody>\n",
       "</table>\n",
       "</div>"
      ],
      "text/plain": [
       "       RegionName  percent_rent_change\n",
       "19574       85706             0.195756\n",
       "17369       79936             0.188677\n",
       "17354       79924             0.178257\n",
       "12479       46222             0.163664\n",
       "12509       46226             0.162247\n",
       "1574        10025            -0.048770\n",
       "1544        10023            -0.049635\n",
       "1754        10065            -0.050403\n",
       "1619        10028            -0.056674\n",
       "1559        10024            -0.058383"
      ]
     },
     "execution_count": 96,
     "metadata": {},
     "output_type": "execute_result"
    }
   ],
   "source": [
    "percent_rent_change_2021 = zori_census_covid_biann[zori_census_covid_biann['year']==2021].drop(\n",
    "    'rent_next_biann',axis=1)[['RegionName']]\n",
    "percent_rent_change_2021['percent_rent_change'] = ((y_2021-zori_census_covid_biann[zori_census_covid_biann[\n",
    "    'year']==2021].drop('rent_next_biann',axis=1)['rent_price'])/zori_census_covid_biann[zori_census_covid_biann[\n",
    "    'year']==2021].drop('rent_next_biann',axis=1)['rent_price'])\n",
    "percent_rent_change_2021 = percent_rent_change_2021.sort_values(by='percent_rent_change',ascending=False)\n",
    "pd.concat((percent_rent_change_2021.head(5), percent_rent_change_2021.tail(5)))"
   ]
  },
  {
   "cell_type": "code",
   "execution_count": null,
   "metadata": {},
   "outputs": [],
   "source": []
  },
  {
   "cell_type": "code",
   "execution_count": 35,
   "metadata": {},
   "outputs": [],
   "source": [
    "# mean_squared_error(y_test, y_predicted,squared=False)"
   ]
  },
  {
   "cell_type": "code",
   "execution_count": 34,
   "metadata": {},
   "outputs": [],
   "source": [
    "# x_train = zori_census_covid_biann_14_20[zori_census_covid_biann_14_20['year']>=2019][\n",
    "#     zori_census_covid_biann_14_20['year']<2020.5].drop('rent_next_biann',axis=1)[['rent_price']]\n",
    "# y_train = zori_census_covid_biann_14_20[zori_census_covid_biann_14_20['year']>=2019][\n",
    "#     zori_census_covid_biann_14_20['year']<2020.5]['rent_next_biann']\n",
    "# x_test = zori_census_covid_biann_14_20[zori_census_covid_biann_14_20['year']>=2019][\n",
    "#     zori_census_covid_biann_14_20['year']==2020.5].drop('rent_next_biann',axis=1)[['rent_price']]\n",
    "# y_test = zori_census_covid_biann_14_20[zori_census_covid_biann_14_20['year']>=2019][\n",
    "#     zori_census_covid_biann_14_20['year']==2020.5]['rent_next_biann']"
   ]
  }
 ],
 "metadata": {
  "kernelspec": {
   "display_name": "Python 3",
   "language": "python",
   "name": "python3"
  },
  "language_info": {
   "codemirror_mode": {
    "name": "ipython",
    "version": 3
   },
   "file_extension": ".py",
   "mimetype": "text/x-python",
   "name": "python",
   "nbconvert_exporter": "python",
   "pygments_lexer": "ipython3",
   "version": "3.8.5"
  }
 },
 "nbformat": 4,
 "nbformat_minor": 4
}
